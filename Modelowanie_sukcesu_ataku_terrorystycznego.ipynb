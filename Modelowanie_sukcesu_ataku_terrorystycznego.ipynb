{
 "cells": [
  {
   "cell_type": "code",
   "execution_count": 1,
   "id": "f5baacb6",
   "metadata": {},
   "outputs": [
    {
     "name": "stdout",
     "output_type": "stream",
     "text": [
      "Requirement already satisfied: imbalanced-learn in c:\\users\\inga-\\anaconda3\\lib\\site-packages (0.12.2)\n",
      "Requirement already satisfied: scikit-learn>=1.0.2 in c:\\users\\inga-\\anaconda3\\lib\\site-packages (from imbalanced-learn) (1.3.2)\n",
      "Requirement already satisfied: threadpoolctl>=2.0.0 in c:\\users\\inga-\\anaconda3\\lib\\site-packages (from imbalanced-learn) (2.2.0)\n",
      "Requirement already satisfied: numpy>=1.17.3 in c:\\users\\inga-\\anaconda3\\lib\\site-packages (from imbalanced-learn) (1.20.0)\n",
      "Requirement already satisfied: joblib>=1.1.1 in c:\\users\\inga-\\anaconda3\\lib\\site-packages (from imbalanced-learn) (1.3.2)\n",
      "Requirement already satisfied: scipy>=1.5.0 in c:\\users\\inga-\\anaconda3\\lib\\site-packages (from imbalanced-learn) (1.7.1)\n",
      "Requirement already satisfied: matplotlib in c:\\users\\inga-\\anaconda3\\lib\\site-packages (3.4.3)\n",
      "Requirement already satisfied: seaborn in c:\\users\\inga-\\anaconda3\\lib\\site-packages (0.11.2)\n",
      "Requirement already satisfied: python-dateutil>=2.7 in c:\\users\\inga-\\anaconda3\\lib\\site-packages (from matplotlib) (2.8.2)\n",
      "Requirement already satisfied: numpy>=1.16 in c:\\users\\inga-\\anaconda3\\lib\\site-packages (from matplotlib) (1.20.0)\n",
      "Requirement already satisfied: pyparsing>=2.2.1 in c:\\users\\inga-\\anaconda3\\lib\\site-packages (from matplotlib) (3.0.4)\n",
      "Requirement already satisfied: cycler>=0.10 in c:\\users\\inga-\\anaconda3\\lib\\site-packages (from matplotlib) (0.10.0)\n",
      "Requirement already satisfied: pillow>=6.2.0 in c:\\users\\inga-\\anaconda3\\lib\\site-packages (from matplotlib) (8.4.0)\n",
      "Requirement already satisfied: kiwisolver>=1.0.1 in c:\\users\\inga-\\anaconda3\\lib\\site-packages (from matplotlib) (1.3.1)\n",
      "Requirement already satisfied: pandas>=0.23 in c:\\users\\inga-\\anaconda3\\lib\\site-packages (from seaborn) (1.3.4)\n",
      "Requirement already satisfied: scipy>=1.0 in c:\\users\\inga-\\anaconda3\\lib\\site-packages (from seaborn) (1.7.1)\n",
      "Requirement already satisfied: six in c:\\users\\inga-\\anaconda3\\lib\\site-packages (from cycler>=0.10->matplotlib) (1.16.0)\n",
      "Requirement already satisfied: pytz>=2017.3 in c:\\users\\inga-\\anaconda3\\lib\\site-packages (from pandas>=0.23->seaborn) (2021.3)\n",
      "Requirement already satisfied: xgboost in c:\\users\\inga-\\anaconda3\\lib\\site-packages (2.0.3)\n",
      "Requirement already satisfied: scipy in c:\\users\\inga-\\anaconda3\\lib\\site-packages (from xgboost) (1.7.1)\n",
      "Requirement already satisfied: numpy in c:\\users\\inga-\\anaconda3\\lib\\site-packages (from xgboost) (1.20.0)\n"
     ]
    }
   ],
   "source": [
    "import numpy as np\n",
    "import pandas as pd\n",
    "import matplotlib.pyplot as plt\n",
    "from sklearn.model_selection import train_test_split\n",
    "from sklearn.impute import SimpleImputer\n",
    "from sklearn.preprocessing import OrdinalEncoder\n",
    "from sklearn.preprocessing import OneHotEncoder\n",
    "from sklearn.preprocessing import StandardScaler\n",
    "\n",
    "from sklearn.linear_model import LogisticRegression\n",
    "from sklearn.tree import DecisionTreeClassifier\n",
    "\n",
    "from sklearn.metrics import accuracy_score\n",
    "from sklearn.model_selection import cross_validate\n",
    "from sklearn.tree import export_graphviz\n",
    "import graphviz\n",
    "from sklearn.metrics import confusion_matrix\n",
    "from sklearn.metrics import roc_curve, roc_auc_score\n",
    "from sklearn.model_selection import GridSearchCV\n",
    "\n",
    "\n",
    "!pip install imbalanced-learn\n",
    "from imblearn.over_sampling import RandomOverSampler\n",
    "\n",
    "\n",
    "!pip install matplotlib seaborn\n",
    "import matplotlib.pyplot as plt\n",
    "import seaborn as sns\n",
    "\n",
    "from sklearn.ensemble import RandomForestClassifier\n",
    "from sklearn.model_selection import cross_val_score\n",
    "\n",
    "!pip install xgboost\n",
    "import xgboost as xgb\n",
    "from sklearn.metrics import mean_squared_error"
   ]
  },
  {
   "cell_type": "code",
   "execution_count": 2,
   "id": "9a148665",
   "metadata": {},
   "outputs": [],
   "source": [
    "dane_all = pd.read_excel('C:/Users/inga-/Desktop/SGH/Magisterka/4_semestr/MODEL/DANE/GTD_final.xlsx')"
   ]
  },
  {
   "cell_type": "code",
   "execution_count": 3,
   "id": "9ca132bd",
   "metadata": {},
   "outputs": [
    {
     "data": {
      "text/plain": [
       "Index(['eventid', 'day_of_week', 'weekend', 'extended', 'country',\n",
       "       'country_txt', 'region', 'region_txt', 'multiple', 'success', 'suicide',\n",
       "       'attacktype1', 'attacktype1_txt', 'targtype1', 'targtype1_txt',\n",
       "       'natlty1', 'natlty1_txt', 'gname', 'gname_final', 'weaptype1',\n",
       "       'weaptype1_txt', 'ishostkid'],\n",
       "      dtype='object')"
      ]
     },
     "execution_count": 3,
     "metadata": {},
     "output_type": "execute_result"
    }
   ],
   "source": [
    "dane_all.columns"
   ]
  },
  {
   "cell_type": "code",
   "execution_count": 4,
   "id": "3cdcf468",
   "metadata": {},
   "outputs": [],
   "source": [
    "dane = dane_all[['success', 'day_of_week', 'weekend', 'extended', 'country',\n",
    "       'country_txt', 'region', 'region_txt', 'multiple',  'suicide',\n",
    "       'attacktype1', 'attacktype1_txt', 'targtype1', 'targtype1_txt',\n",
    "       'natlty1', 'natlty1_txt', 'gname', 'gname_final', 'weaptype1',\n",
    "       'weaptype1_txt', 'ishostkid']]"
   ]
  },
  {
   "cell_type": "code",
   "execution_count": 5,
   "id": "57366297",
   "metadata": {
    "scrolled": false
   },
   "outputs": [
    {
     "data": {
      "text/html": [
       "<div>\n",
       "<style scoped>\n",
       "    .dataframe tbody tr th:only-of-type {\n",
       "        vertical-align: middle;\n",
       "    }\n",
       "\n",
       "    .dataframe tbody tr th {\n",
       "        vertical-align: top;\n",
       "    }\n",
       "\n",
       "    .dataframe thead th {\n",
       "        text-align: right;\n",
       "    }\n",
       "</style>\n",
       "<table border=\"1\" class=\"dataframe\">\n",
       "  <thead>\n",
       "    <tr style=\"text-align: right;\">\n",
       "      <th></th>\n",
       "      <th>success</th>\n",
       "      <th>day_of_week</th>\n",
       "      <th>weekend</th>\n",
       "      <th>extended</th>\n",
       "      <th>country</th>\n",
       "      <th>country_txt</th>\n",
       "      <th>region</th>\n",
       "      <th>region_txt</th>\n",
       "      <th>multiple</th>\n",
       "      <th>suicide</th>\n",
       "      <th>...</th>\n",
       "      <th>attacktype1_txt</th>\n",
       "      <th>targtype1</th>\n",
       "      <th>targtype1_txt</th>\n",
       "      <th>natlty1</th>\n",
       "      <th>natlty1_txt</th>\n",
       "      <th>gname</th>\n",
       "      <th>gname_final</th>\n",
       "      <th>weaptype1</th>\n",
       "      <th>weaptype1_txt</th>\n",
       "      <th>ishostkid</th>\n",
       "    </tr>\n",
       "  </thead>\n",
       "  <tbody>\n",
       "    <tr>\n",
       "      <th>0</th>\n",
       "      <td>1</td>\n",
       "      <td>6</td>\n",
       "      <td>1</td>\n",
       "      <td>0</td>\n",
       "      <td>139</td>\n",
       "      <td>Namibia</td>\n",
       "      <td>11</td>\n",
       "      <td>Sub-Saharan Africa</td>\n",
       "      <td>1.0</td>\n",
       "      <td>0</td>\n",
       "      <td>...</td>\n",
       "      <td>Armed Assault</td>\n",
       "      <td>1</td>\n",
       "      <td>Business</td>\n",
       "      <td>139.0</td>\n",
       "      <td>Namibia</td>\n",
       "      <td>National Union for the Total Independence of A...</td>\n",
       "      <td>Other group</td>\n",
       "      <td>5</td>\n",
       "      <td>Firearms</td>\n",
       "      <td>0.0</td>\n",
       "    </tr>\n",
       "    <tr>\n",
       "      <th>1</th>\n",
       "      <td>1</td>\n",
       "      <td>6</td>\n",
       "      <td>1</td>\n",
       "      <td>1</td>\n",
       "      <td>139</td>\n",
       "      <td>Namibia</td>\n",
       "      <td>11</td>\n",
       "      <td>Sub-Saharan Africa</td>\n",
       "      <td>1.0</td>\n",
       "      <td>0</td>\n",
       "      <td>...</td>\n",
       "      <td>Hostage Taking (Kidnapping)</td>\n",
       "      <td>1</td>\n",
       "      <td>Business</td>\n",
       "      <td>139.0</td>\n",
       "      <td>Namibia</td>\n",
       "      <td>National Union for the Total Independence of A...</td>\n",
       "      <td>Other group</td>\n",
       "      <td>5</td>\n",
       "      <td>Firearms</td>\n",
       "      <td>1.0</td>\n",
       "    </tr>\n",
       "    <tr>\n",
       "      <th>2</th>\n",
       "      <td>1</td>\n",
       "      <td>6</td>\n",
       "      <td>1</td>\n",
       "      <td>0</td>\n",
       "      <td>1003</td>\n",
       "      <td>Kosovo</td>\n",
       "      <td>9</td>\n",
       "      <td>Eastern Europe</td>\n",
       "      <td>0.0</td>\n",
       "      <td>0</td>\n",
       "      <td>...</td>\n",
       "      <td>Bombing/Explosion</td>\n",
       "      <td>14</td>\n",
       "      <td>Private Citizens &amp; Property</td>\n",
       "      <td>103.0</td>\n",
       "      <td>Kazakhstan</td>\n",
       "      <td>Unknown</td>\n",
       "      <td>Unknown</td>\n",
       "      <td>6</td>\n",
       "      <td>Explosives</td>\n",
       "      <td>0.0</td>\n",
       "    </tr>\n",
       "    <tr>\n",
       "      <th>3</th>\n",
       "      <td>1</td>\n",
       "      <td>6</td>\n",
       "      <td>1</td>\n",
       "      <td>0</td>\n",
       "      <td>19</td>\n",
       "      <td>Bangladesh</td>\n",
       "      <td>6</td>\n",
       "      <td>South Asia</td>\n",
       "      <td>1.0</td>\n",
       "      <td>0</td>\n",
       "      <td>...</td>\n",
       "      <td>Armed Assault</td>\n",
       "      <td>14</td>\n",
       "      <td>Private Citizens &amp; Property</td>\n",
       "      <td>19.0</td>\n",
       "      <td>Bangladesh</td>\n",
       "      <td>Unknown</td>\n",
       "      <td>Unknown</td>\n",
       "      <td>6</td>\n",
       "      <td>Explosives</td>\n",
       "      <td>0.0</td>\n",
       "    </tr>\n",
       "    <tr>\n",
       "      <th>4</th>\n",
       "      <td>1</td>\n",
       "      <td>6</td>\n",
       "      <td>1</td>\n",
       "      <td>0</td>\n",
       "      <td>92</td>\n",
       "      <td>India</td>\n",
       "      <td>6</td>\n",
       "      <td>South Asia</td>\n",
       "      <td>0.0</td>\n",
       "      <td>0</td>\n",
       "      <td>...</td>\n",
       "      <td>Bombing/Explosion</td>\n",
       "      <td>21</td>\n",
       "      <td>Utilities</td>\n",
       "      <td>92.0</td>\n",
       "      <td>India</td>\n",
       "      <td>United Liberation Front of Assam (ULFA)</td>\n",
       "      <td>United Liberation Front of Assam (ULFA)</td>\n",
       "      <td>6</td>\n",
       "      <td>Explosives</td>\n",
       "      <td>0.0</td>\n",
       "    </tr>\n",
       "  </tbody>\n",
       "</table>\n",
       "<p>5 rows × 21 columns</p>\n",
       "</div>"
      ],
      "text/plain": [
       "   success  day_of_week  weekend  extended  country country_txt  region  \\\n",
       "0        1            6        1         0      139     Namibia      11   \n",
       "1        1            6        1         1      139     Namibia      11   \n",
       "2        1            6        1         0     1003      Kosovo       9   \n",
       "3        1            6        1         0       19  Bangladesh       6   \n",
       "4        1            6        1         0       92       India       6   \n",
       "\n",
       "           region_txt  multiple  suicide  ...              attacktype1_txt  \\\n",
       "0  Sub-Saharan Africa       1.0        0  ...                Armed Assault   \n",
       "1  Sub-Saharan Africa       1.0        0  ...  Hostage Taking (Kidnapping)   \n",
       "2      Eastern Europe       0.0        0  ...            Bombing/Explosion   \n",
       "3          South Asia       1.0        0  ...                Armed Assault   \n",
       "4          South Asia       0.0        0  ...            Bombing/Explosion   \n",
       "\n",
       "  targtype1                targtype1_txt natlty1  natlty1_txt  \\\n",
       "0         1                     Business   139.0      Namibia   \n",
       "1         1                     Business   139.0      Namibia   \n",
       "2        14  Private Citizens & Property   103.0   Kazakhstan   \n",
       "3        14  Private Citizens & Property    19.0   Bangladesh   \n",
       "4        21                    Utilities    92.0        India   \n",
       "\n",
       "                                               gname  \\\n",
       "0  National Union for the Total Independence of A...   \n",
       "1  National Union for the Total Independence of A...   \n",
       "2                                            Unknown   \n",
       "3                                            Unknown   \n",
       "4            United Liberation Front of Assam (ULFA)   \n",
       "\n",
       "                               gname_final weaptype1  weaptype1_txt ishostkid  \n",
       "0                              Other group         5       Firearms       0.0  \n",
       "1                              Other group         5       Firearms       1.0  \n",
       "2                                  Unknown         6     Explosives       0.0  \n",
       "3                                  Unknown         6     Explosives       0.0  \n",
       "4  United Liberation Front of Assam (ULFA)         6     Explosives       0.0  \n",
       "\n",
       "[5 rows x 21 columns]"
      ]
     },
     "execution_count": 5,
     "metadata": {},
     "output_type": "execute_result"
    }
   ],
   "source": [
    "dane.head()"
   ]
  },
  {
   "cell_type": "code",
   "execution_count": 6,
   "id": "b812c079",
   "metadata": {},
   "outputs": [
    {
     "data": {
      "text/plain": [
       "(119396, 21)"
      ]
     },
     "execution_count": 6,
     "metadata": {},
     "output_type": "execute_result"
    }
   ],
   "source": [
    "dane.shape"
   ]
  },
  {
   "cell_type": "code",
   "execution_count": 7,
   "id": "60829d86",
   "metadata": {
    "scrolled": true
   },
   "outputs": [
    {
     "data": {
      "text/plain": [
       "Unknown                                                 59734\n",
       "Other group                                             20523\n",
       "Taliban                                                 11390\n",
       "Islamic State (IS)                                       7669\n",
       "Boko Haram                                               2910\n",
       "Al-Shabaab                                               2839\n",
       "Houthi                                                   2697\n",
       "Communist Party of India - Maoist (CPI-Maoist)           2036\n",
       "New People's Army (NPA)                                  1624\n",
       "Al-Qaida                                                 1558\n",
       "Revolutionary Armed Forces of Colombia (FARC)            1296\n",
       "Kurdistan Workers' Party (PKK)                           1027\n",
       "National Liberation Army of Colombia (ELN)                587\n",
       "Liberation Tigers of Tamil Eelam (LTTE)                   497\n",
       "Abu Sayyaf Group (ASG)                                    460\n",
       "Allied Democratic Forces (ADF)                            422\n",
       "Hamas                                                     365\n",
       "United Liberation Front of Assam (ULFA)                   315\n",
       "Bangsamoro Islamic Freedom Movement (BIFM)                307\n",
       "Communist Party of Nepal - Maoist (CPN-Maoist-Chand)      299\n",
       "Lord's Resistance Army (LRA)                              285\n",
       "Moro Islamic Liberation Front (MILF)                      284\n",
       "Baloch Republican Army (BRA)                              272\n",
       "Name: gname_final, dtype: int64"
      ]
     },
     "execution_count": 7,
     "metadata": {},
     "output_type": "execute_result"
    }
   ],
   "source": [
    "dane[\"gname_final\"].value_counts()"
   ]
  },
  {
   "cell_type": "code",
   "execution_count": 9,
   "id": "eacd32b6",
   "metadata": {
    "scrolled": true
   },
   "outputs": [
    {
     "name": "stdout",
     "output_type": "stream",
     "text": [
      "Oryginalna kolumna 'gname_final':\n",
      "0                                           Other group\n",
      "1                                           Other group\n",
      "2                                               Unknown\n",
      "3                                               Unknown\n",
      "4               United Liberation Front of Assam (ULFA)\n",
      "                              ...                      \n",
      "119391                               Islamic State (IS)\n",
      "119392                                          Unknown\n",
      "119393                                          Unknown\n",
      "119394                                       Boko Haram\n",
      "119395    Revolutionary Armed Forces of Colombia (FARC)\n",
      "Name: gname_final, Length: 119396, dtype: object\n",
      "Zakodowana kolumna 'new_gname_final':\n",
      "0          2\n",
      "1          2\n",
      "2          1\n",
      "3          1\n",
      "4         18\n",
      "          ..\n",
      "119391     4\n",
      "119392     1\n",
      "119393     1\n",
      "119394     5\n",
      "119395    11\n",
      "Name: new_gname_final, Length: 119396, dtype: int64\n",
      "\n"
     ]
    }
   ],
   "source": [
    "encoder = OrdinalEncoder()\n",
    "\n",
    "kolumny_do_zakodowania = ['gname_final']\n",
    "\n",
    "for kolumna in kolumny_do_zakodowania:\n",
    "    czestotliwosci = dane[kolumna].value_counts()  \n",
    "    kategorie_zakodowane = {kategoria: i + 1 for i, kategoria in enumerate(czestotliwosci.index)} \n",
    "    nowa_nazwa_kolumny = 'new_' + kolumna\n",
    "    dane[nowa_nazwa_kolumny] = dane[kolumna].map(kategorie_zakodowane)  \n",
    "\n",
    "for kolumna in kolumny_do_zakodowania:\n",
    "    nowa_nazwa_kolumny = 'new_' + kolumna\n",
    "    print(f\"Oryginalna kolumna '{kolumna}':\")\n",
    "    print(dane[kolumna])\n",
    "    print(f\"Zakodowana kolumna '{nowa_nazwa_kolumny}':\")\n",
    "    print(dane[nowa_nazwa_kolumny])\n",
    "    print()"
   ]
  },
  {
   "cell_type": "code",
   "execution_count": 10,
   "id": "c6c12980",
   "metadata": {
    "scrolled": true
   },
   "outputs": [
    {
     "data": {
      "text/plain": [
       "1     59734\n",
       "2     20523\n",
       "3     11390\n",
       "4      7669\n",
       "5      2910\n",
       "6      2839\n",
       "7      2697\n",
       "8      2036\n",
       "9      1624\n",
       "10     1558\n",
       "11     1296\n",
       "12     1027\n",
       "13      587\n",
       "14      497\n",
       "15      460\n",
       "16      422\n",
       "17      365\n",
       "18      315\n",
       "19      307\n",
       "20      299\n",
       "21      285\n",
       "22      284\n",
       "23      272\n",
       "Name: new_gname_final, dtype: int64"
      ]
     },
     "execution_count": 10,
     "metadata": {},
     "output_type": "execute_result"
    }
   ],
   "source": [
    "dane[\"new_gname_final\"].value_counts()"
   ]
  },
  {
   "cell_type": "code",
   "execution_count": 11,
   "id": "f37d0bc7",
   "metadata": {},
   "outputs": [],
   "source": [
    "dane.rename(columns={'new_gname_final': 'group_name'}, inplace=True)"
   ]
  },
  {
   "cell_type": "code",
   "execution_count": 12,
   "id": "83da7fec",
   "metadata": {},
   "outputs": [
    {
     "data": {
      "text/plain": [
       "Index(['success', 'day_of_week', 'weekend', 'extended', 'country',\n",
       "       'country_txt', 'region', 'region_txt', 'multiple', 'suicide',\n",
       "       'attacktype1', 'attacktype1_txt', 'targtype1', 'targtype1_txt',\n",
       "       'natlty1', 'natlty1_txt', 'gname', 'gname_final', 'weaptype1',\n",
       "       'weaptype1_txt', 'ishostkid', 'nowa_gname_final', 'group_name'],\n",
       "      dtype='object')"
      ]
     },
     "execution_count": 12,
     "metadata": {},
     "output_type": "execute_result"
    }
   ],
   "source": [
    "dane.columns"
   ]
  },
  {
   "cell_type": "code",
   "execution_count": 13,
   "id": "3e3fb2df",
   "metadata": {},
   "outputs": [
    {
     "data": {
      "text/html": [
       "<div>\n",
       "<style scoped>\n",
       "    .dataframe tbody tr th:only-of-type {\n",
       "        vertical-align: middle;\n",
       "    }\n",
       "\n",
       "    .dataframe tbody tr th {\n",
       "        vertical-align: top;\n",
       "    }\n",
       "\n",
       "    .dataframe thead th {\n",
       "        text-align: right;\n",
       "    }\n",
       "</style>\n",
       "<table border=\"1\" class=\"dataframe\">\n",
       "  <thead>\n",
       "    <tr style=\"text-align: right;\">\n",
       "      <th></th>\n",
       "      <th>success</th>\n",
       "      <th>day_of_week</th>\n",
       "      <th>weekend</th>\n",
       "      <th>extended</th>\n",
       "      <th>country</th>\n",
       "      <th>region</th>\n",
       "      <th>multiple</th>\n",
       "      <th>suicide</th>\n",
       "      <th>attacktype1</th>\n",
       "      <th>targtype1</th>\n",
       "      <th>natlty1</th>\n",
       "      <th>weaptype1</th>\n",
       "      <th>ishostkid</th>\n",
       "      <th>nowa_gname_final</th>\n",
       "      <th>group_name</th>\n",
       "    </tr>\n",
       "  </thead>\n",
       "  <tbody>\n",
       "    <tr>\n",
       "      <th>count</th>\n",
       "      <td>119396.000000</td>\n",
       "      <td>119396.000000</td>\n",
       "      <td>119396.000000</td>\n",
       "      <td>119396.000000</td>\n",
       "      <td>119396.000000</td>\n",
       "      <td>119396.000000</td>\n",
       "      <td>119393.000000</td>\n",
       "      <td>119396.000000</td>\n",
       "      <td>119396.000000</td>\n",
       "      <td>119396.000000</td>\n",
       "      <td>117800.000000</td>\n",
       "      <td>119396.000000</td>\n",
       "      <td>119395.000000</td>\n",
       "      <td>119396.000000</td>\n",
       "      <td>119396.000000</td>\n",
       "    </tr>\n",
       "    <tr>\n",
       "      <th>mean</th>\n",
       "      <td>0.868036</td>\n",
       "      <td>3.937787</td>\n",
       "      <td>0.282664</td>\n",
       "      <td>0.072071</td>\n",
       "      <td>119.967897</td>\n",
       "      <td>7.987998</td>\n",
       "      <td>0.169574</td>\n",
       "      <td>0.049474</td>\n",
       "      <td>3.445383</td>\n",
       "      <td>9.519197</td>\n",
       "      <td>121.257776</td>\n",
       "      <td>6.480359</td>\n",
       "      <td>0.054709</td>\n",
       "      <td>3.011583</td>\n",
       "      <td>3.011583</td>\n",
       "    </tr>\n",
       "    <tr>\n",
       "      <th>std</th>\n",
       "      <td>0.338453</td>\n",
       "      <td>2.023783</td>\n",
       "      <td>0.450297</td>\n",
       "      <td>0.258607</td>\n",
       "      <td>97.301549</td>\n",
       "      <td>2.411167</td>\n",
       "      <td>0.375260</td>\n",
       "      <td>0.216856</td>\n",
       "      <td>1.951137</td>\n",
       "      <td>6.662124</td>\n",
       "      <td>92.444416</td>\n",
       "      <td>2.168409</td>\n",
       "      <td>0.678439</td>\n",
       "      <td>3.622508</td>\n",
       "      <td>3.622508</td>\n",
       "    </tr>\n",
       "    <tr>\n",
       "      <th>min</th>\n",
       "      <td>0.000000</td>\n",
       "      <td>1.000000</td>\n",
       "      <td>0.000000</td>\n",
       "      <td>0.000000</td>\n",
       "      <td>4.000000</td>\n",
       "      <td>1.000000</td>\n",
       "      <td>0.000000</td>\n",
       "      <td>0.000000</td>\n",
       "      <td>1.000000</td>\n",
       "      <td>1.000000</td>\n",
       "      <td>4.000000</td>\n",
       "      <td>1.000000</td>\n",
       "      <td>-9.000000</td>\n",
       "      <td>1.000000</td>\n",
       "      <td>1.000000</td>\n",
       "    </tr>\n",
       "    <tr>\n",
       "      <th>25%</th>\n",
       "      <td>1.000000</td>\n",
       "      <td>2.000000</td>\n",
       "      <td>0.000000</td>\n",
       "      <td>0.000000</td>\n",
       "      <td>92.000000</td>\n",
       "      <td>6.000000</td>\n",
       "      <td>0.000000</td>\n",
       "      <td>0.000000</td>\n",
       "      <td>2.000000</td>\n",
       "      <td>3.000000</td>\n",
       "      <td>92.000000</td>\n",
       "      <td>5.000000</td>\n",
       "      <td>0.000000</td>\n",
       "      <td>1.000000</td>\n",
       "      <td>1.000000</td>\n",
       "    </tr>\n",
       "    <tr>\n",
       "      <th>50%</th>\n",
       "      <td>1.000000</td>\n",
       "      <td>4.000000</td>\n",
       "      <td>0.000000</td>\n",
       "      <td>0.000000</td>\n",
       "      <td>95.000000</td>\n",
       "      <td>9.000000</td>\n",
       "      <td>0.000000</td>\n",
       "      <td>0.000000</td>\n",
       "      <td>3.000000</td>\n",
       "      <td>14.000000</td>\n",
       "      <td>95.000000</td>\n",
       "      <td>6.000000</td>\n",
       "      <td>0.000000</td>\n",
       "      <td>1.000000</td>\n",
       "      <td>1.000000</td>\n",
       "    </tr>\n",
       "    <tr>\n",
       "      <th>75%</th>\n",
       "      <td>1.000000</td>\n",
       "      <td>6.000000</td>\n",
       "      <td>1.000000</td>\n",
       "      <td>0.000000</td>\n",
       "      <td>155.000000</td>\n",
       "      <td>10.000000</td>\n",
       "      <td>0.000000</td>\n",
       "      <td>0.000000</td>\n",
       "      <td>3.000000</td>\n",
       "      <td>14.000000</td>\n",
       "      <td>160.000000</td>\n",
       "      <td>6.000000</td>\n",
       "      <td>0.000000</td>\n",
       "      <td>3.000000</td>\n",
       "      <td>3.000000</td>\n",
       "    </tr>\n",
       "    <tr>\n",
       "      <th>max</th>\n",
       "      <td>1.000000</td>\n",
       "      <td>7.000000</td>\n",
       "      <td>1.000000</td>\n",
       "      <td>1.000000</td>\n",
       "      <td>1004.000000</td>\n",
       "      <td>12.000000</td>\n",
       "      <td>1.000000</td>\n",
       "      <td>1.000000</td>\n",
       "      <td>9.000000</td>\n",
       "      <td>22.000000</td>\n",
       "      <td>1004.000000</td>\n",
       "      <td>13.000000</td>\n",
       "      <td>1.000000</td>\n",
       "      <td>23.000000</td>\n",
       "      <td>23.000000</td>\n",
       "    </tr>\n",
       "  </tbody>\n",
       "</table>\n",
       "</div>"
      ],
      "text/plain": [
       "             success    day_of_week        weekend       extended  \\\n",
       "count  119396.000000  119396.000000  119396.000000  119396.000000   \n",
       "mean        0.868036       3.937787       0.282664       0.072071   \n",
       "std         0.338453       2.023783       0.450297       0.258607   \n",
       "min         0.000000       1.000000       0.000000       0.000000   \n",
       "25%         1.000000       2.000000       0.000000       0.000000   \n",
       "50%         1.000000       4.000000       0.000000       0.000000   \n",
       "75%         1.000000       6.000000       1.000000       0.000000   \n",
       "max         1.000000       7.000000       1.000000       1.000000   \n",
       "\n",
       "             country         region       multiple        suicide  \\\n",
       "count  119396.000000  119396.000000  119393.000000  119396.000000   \n",
       "mean      119.967897       7.987998       0.169574       0.049474   \n",
       "std        97.301549       2.411167       0.375260       0.216856   \n",
       "min         4.000000       1.000000       0.000000       0.000000   \n",
       "25%        92.000000       6.000000       0.000000       0.000000   \n",
       "50%        95.000000       9.000000       0.000000       0.000000   \n",
       "75%       155.000000      10.000000       0.000000       0.000000   \n",
       "max      1004.000000      12.000000       1.000000       1.000000   \n",
       "\n",
       "         attacktype1      targtype1        natlty1      weaptype1  \\\n",
       "count  119396.000000  119396.000000  117800.000000  119396.000000   \n",
       "mean        3.445383       9.519197     121.257776       6.480359   \n",
       "std         1.951137       6.662124      92.444416       2.168409   \n",
       "min         1.000000       1.000000       4.000000       1.000000   \n",
       "25%         2.000000       3.000000      92.000000       5.000000   \n",
       "50%         3.000000      14.000000      95.000000       6.000000   \n",
       "75%         3.000000      14.000000     160.000000       6.000000   \n",
       "max         9.000000      22.000000    1004.000000      13.000000   \n",
       "\n",
       "           ishostkid  nowa_gname_final     group_name  \n",
       "count  119395.000000     119396.000000  119396.000000  \n",
       "mean        0.054709          3.011583       3.011583  \n",
       "std         0.678439          3.622508       3.622508  \n",
       "min        -9.000000          1.000000       1.000000  \n",
       "25%         0.000000          1.000000       1.000000  \n",
       "50%         0.000000          1.000000       1.000000  \n",
       "75%         0.000000          3.000000       3.000000  \n",
       "max         1.000000         23.000000      23.000000  "
      ]
     },
     "execution_count": 13,
     "metadata": {},
     "output_type": "execute_result"
    }
   ],
   "source": [
    "dane.describe()"
   ]
  },
  {
   "cell_type": "code",
   "execution_count": 14,
   "id": "e8f11f22",
   "metadata": {},
   "outputs": [
    {
     "name": "stdout",
     "output_type": "stream",
     "text": [
      "success                0\n",
      "day_of_week            0\n",
      "weekend                0\n",
      "extended               0\n",
      "country                0\n",
      "country_txt            0\n",
      "region                 0\n",
      "region_txt             0\n",
      "multiple               3\n",
      "suicide                0\n",
      "attacktype1            0\n",
      "attacktype1_txt        0\n",
      "targtype1              0\n",
      "targtype1_txt          0\n",
      "natlty1             1596\n",
      "natlty1_txt         1596\n",
      "gname                  0\n",
      "gname_final            0\n",
      "weaptype1              0\n",
      "weaptype1_txt          0\n",
      "ishostkid              1\n",
      "nowa_gname_final       0\n",
      "group_name             0\n",
      "dtype: int64\n"
     ]
    }
   ],
   "source": [
    "null_licznosc = dane.isnull().sum()\n",
    "print(null_licznosc)"
   ]
  },
  {
   "cell_type": "code",
   "execution_count": 15,
   "id": "e73cb08a",
   "metadata": {},
   "outputs": [],
   "source": [
    "dane = dane.dropna()"
   ]
  },
  {
   "cell_type": "code",
   "execution_count": 16,
   "id": "df7f5ddc",
   "metadata": {},
   "outputs": [
    {
     "data": {
      "text/plain": [
       "(117796, 23)"
      ]
     },
     "execution_count": 16,
     "metadata": {},
     "output_type": "execute_result"
    }
   ],
   "source": [
    "dane.shape"
   ]
  },
  {
   "cell_type": "code",
   "execution_count": 17,
   "id": "7524cea9",
   "metadata": {
    "scrolled": true
   },
   "outputs": [
    {
     "data": {
      "image/png": "[encoded data removed]",
      "text/plain": [
       "<Figure size 1440x1440 with 2 Axes>"
      ]
     },
     "metadata": {
      "needs_background": "light"
     },
     "output_type": "display_data"
    }
   ],
   "source": [
    "korelacja = dane.corr()\n",
    "\n",
    "plt.figure(figsize=(20, 20))\n",
    "sns.heatmap(korelacja, annot=True, fmt=\".2f\", cmap='coolwarm', vmin=-1, vmax=1)\n",
    "plt.title('Macierz Korelacji')\n",
    "plt.savefig('macierz_korelacji.png', dpi=300, bbox_inches='tight')\n",
    "plt.show()"
   ]
  },
  {
   "cell_type": "code",
   "execution_count": 18,
   "id": "051799bb",
   "metadata": {},
   "outputs": [
    {
     "data": {
      "text/plain": [
       "Index(['success', 'day_of_week', 'weekend', 'extended', 'country',\n",
       "       'country_txt', 'region', 'region_txt', 'multiple', 'suicide',\n",
       "       'attacktype1', 'attacktype1_txt', 'targtype1', 'targtype1_txt',\n",
       "       'natlty1', 'natlty1_txt', 'gname', 'gname_final', 'weaptype1',\n",
       "       'weaptype1_txt', 'ishostkid', 'nowa_gname_final', 'group_name'],\n",
       "      dtype='object')"
      ]
     },
     "execution_count": 18,
     "metadata": {},
     "output_type": "execute_result"
    }
   ],
   "source": [
    "dane.columns"
   ]
  },
  {
   "cell_type": "code",
   "execution_count": 19,
   "id": "10e8da41",
   "metadata": {},
   "outputs": [],
   "source": [
    "kolumny_do_usuniecia = ['day_of_week', 'weekend', 'suicide', 'natlty1', 'weaptype1']\n",
    "\n",
    "dane = dane.drop(columns=kolumny_do_usuniecia)"
   ]
  },
  {
   "cell_type": "code",
   "execution_count": 20,
   "id": "1f7bccb6",
   "metadata": {
    "scrolled": true
   },
   "outputs": [
    {
     "data": {
      "text/html": [
       "<div>\n",
       "<style scoped>\n",
       "    .dataframe tbody tr th:only-of-type {\n",
       "        vertical-align: middle;\n",
       "    }\n",
       "\n",
       "    .dataframe tbody tr th {\n",
       "        vertical-align: top;\n",
       "    }\n",
       "\n",
       "    .dataframe thead th {\n",
       "        text-align: right;\n",
       "    }\n",
       "</style>\n",
       "<table border=\"1\" class=\"dataframe\">\n",
       "  <thead>\n",
       "    <tr style=\"text-align: right;\">\n",
       "      <th></th>\n",
       "      <th>success</th>\n",
       "      <th>extended</th>\n",
       "      <th>country</th>\n",
       "      <th>region</th>\n",
       "      <th>multiple</th>\n",
       "      <th>attacktype1</th>\n",
       "      <th>targtype1</th>\n",
       "      <th>ishostkid</th>\n",
       "      <th>nowa_gname_final</th>\n",
       "      <th>group_name</th>\n",
       "    </tr>\n",
       "  </thead>\n",
       "  <tbody>\n",
       "    <tr>\n",
       "      <th>success</th>\n",
       "      <td>1.000000</td>\n",
       "      <td>0.104001</td>\n",
       "      <td>-0.049945</td>\n",
       "      <td>0.033202</td>\n",
       "      <td>0.037411</td>\n",
       "      <td>0.095151</td>\n",
       "      <td>-0.098063</td>\n",
       "      <td>0.034639</td>\n",
       "      <td>0.031053</td>\n",
       "      <td>0.031053</td>\n",
       "    </tr>\n",
       "    <tr>\n",
       "      <th>extended</th>\n",
       "      <td>0.104001</td>\n",
       "      <td>1.000000</td>\n",
       "      <td>0.023439</td>\n",
       "      <td>0.051955</td>\n",
       "      <td>-0.004962</td>\n",
       "      <td>0.312406</td>\n",
       "      <td>0.011811</td>\n",
       "      <td>0.166329</td>\n",
       "      <td>0.092353</td>\n",
       "      <td>0.092353</td>\n",
       "    </tr>\n",
       "    <tr>\n",
       "      <th>country</th>\n",
       "      <td>-0.049945</td>\n",
       "      <td>0.023439</td>\n",
       "      <td>1.000000</td>\n",
       "      <td>0.174913</td>\n",
       "      <td>0.027197</td>\n",
       "      <td>-0.012213</td>\n",
       "      <td>0.082567</td>\n",
       "      <td>0.010597</td>\n",
       "      <td>0.061855</td>\n",
       "      <td>0.061855</td>\n",
       "    </tr>\n",
       "    <tr>\n",
       "      <th>region</th>\n",
       "      <td>0.033202</td>\n",
       "      <td>0.051955</td>\n",
       "      <td>0.174913</td>\n",
       "      <td>1.000000</td>\n",
       "      <td>0.062586</td>\n",
       "      <td>-0.027825</td>\n",
       "      <td>0.095292</td>\n",
       "      <td>-0.013725</td>\n",
       "      <td>-0.069385</td>\n",
       "      <td>-0.069385</td>\n",
       "    </tr>\n",
       "    <tr>\n",
       "      <th>multiple</th>\n",
       "      <td>0.037411</td>\n",
       "      <td>-0.004962</td>\n",
       "      <td>0.027197</td>\n",
       "      <td>0.062586</td>\n",
       "      <td>1.000000</td>\n",
       "      <td>0.090935</td>\n",
       "      <td>0.046532</td>\n",
       "      <td>-0.059543</td>\n",
       "      <td>0.083431</td>\n",
       "      <td>0.083431</td>\n",
       "    </tr>\n",
       "    <tr>\n",
       "      <th>attacktype1</th>\n",
       "      <td>0.095151</td>\n",
       "      <td>0.312406</td>\n",
       "      <td>-0.012213</td>\n",
       "      <td>-0.027825</td>\n",
       "      <td>0.090935</td>\n",
       "      <td>1.000000</td>\n",
       "      <td>0.037702</td>\n",
       "      <td>0.143104</td>\n",
       "      <td>0.088114</td>\n",
       "      <td>0.088114</td>\n",
       "    </tr>\n",
       "    <tr>\n",
       "      <th>targtype1</th>\n",
       "      <td>-0.098063</td>\n",
       "      <td>0.011811</td>\n",
       "      <td>0.082567</td>\n",
       "      <td>0.095292</td>\n",
       "      <td>0.046532</td>\n",
       "      <td>0.037702</td>\n",
       "      <td>1.000000</td>\n",
       "      <td>0.004684</td>\n",
       "      <td>0.042255</td>\n",
       "      <td>0.042255</td>\n",
       "    </tr>\n",
       "    <tr>\n",
       "      <th>ishostkid</th>\n",
       "      <td>0.034639</td>\n",
       "      <td>0.166329</td>\n",
       "      <td>0.010597</td>\n",
       "      <td>-0.013725</td>\n",
       "      <td>-0.059543</td>\n",
       "      <td>0.143104</td>\n",
       "      <td>0.004684</td>\n",
       "      <td>1.000000</td>\n",
       "      <td>0.039830</td>\n",
       "      <td>0.039830</td>\n",
       "    </tr>\n",
       "    <tr>\n",
       "      <th>nowa_gname_final</th>\n",
       "      <td>0.031053</td>\n",
       "      <td>0.092353</td>\n",
       "      <td>0.061855</td>\n",
       "      <td>-0.069385</td>\n",
       "      <td>0.083431</td>\n",
       "      <td>0.088114</td>\n",
       "      <td>0.042255</td>\n",
       "      <td>0.039830</td>\n",
       "      <td>1.000000</td>\n",
       "      <td>1.000000</td>\n",
       "    </tr>\n",
       "    <tr>\n",
       "      <th>group_name</th>\n",
       "      <td>0.031053</td>\n",
       "      <td>0.092353</td>\n",
       "      <td>0.061855</td>\n",
       "      <td>-0.069385</td>\n",
       "      <td>0.083431</td>\n",
       "      <td>0.088114</td>\n",
       "      <td>0.042255</td>\n",
       "      <td>0.039830</td>\n",
       "      <td>1.000000</td>\n",
       "      <td>1.000000</td>\n",
       "    </tr>\n",
       "  </tbody>\n",
       "</table>\n",
       "</div>"
      ],
      "text/plain": [
       "                   success  extended   country    region  multiple  \\\n",
       "success           1.000000  0.104001 -0.049945  0.033202  0.037411   \n",
       "extended          0.104001  1.000000  0.023439  0.051955 -0.004962   \n",
       "country          -0.049945  0.023439  1.000000  0.174913  0.027197   \n",
       "region            0.033202  0.051955  0.174913  1.000000  0.062586   \n",
       "multiple          0.037411 -0.004962  0.027197  0.062586  1.000000   \n",
       "attacktype1       0.095151  0.312406 -0.012213 -0.027825  0.090935   \n",
       "targtype1        -0.098063  0.011811  0.082567  0.095292  0.046532   \n",
       "ishostkid         0.034639  0.166329  0.010597 -0.013725 -0.059543   \n",
       "nowa_gname_final  0.031053  0.092353  0.061855 -0.069385  0.083431   \n",
       "group_name        0.031053  0.092353  0.061855 -0.069385  0.083431   \n",
       "\n",
       "                  attacktype1  targtype1  ishostkid  nowa_gname_final  \\\n",
       "success              0.095151  -0.098063   0.034639          0.031053   \n",
       "extended             0.312406   0.011811   0.166329          0.092353   \n",
       "country             -0.012213   0.082567   0.010597          0.061855   \n",
       "region              -0.027825   0.095292  -0.013725         -0.069385   \n",
       "multiple             0.090935   0.046532  -0.059543          0.083431   \n",
       "attacktype1          1.000000   0.037702   0.143104          0.088114   \n",
       "targtype1            0.037702   1.000000   0.004684          0.042255   \n",
       "ishostkid            0.143104   0.004684   1.000000          0.039830   \n",
       "nowa_gname_final     0.088114   0.042255   0.039830          1.000000   \n",
       "group_name           0.088114   0.042255   0.039830          1.000000   \n",
       "\n",
       "                  group_name  \n",
       "success             0.031053  \n",
       "extended            0.092353  \n",
       "country             0.061855  \n",
       "region             -0.069385  \n",
       "multiple            0.083431  \n",
       "attacktype1         0.088114  \n",
       "targtype1           0.042255  \n",
       "ishostkid           0.039830  \n",
       "nowa_gname_final    1.000000  \n",
       "group_name          1.000000  "
      ]
     },
     "execution_count": 20,
     "metadata": {},
     "output_type": "execute_result"
    }
   ],
   "source": [
    "dane.corr()"
   ]
  },
  {
   "cell_type": "code",
   "execution_count": 21,
   "id": "02a44ded",
   "metadata": {},
   "outputs": [
    {
     "data": {
      "text/plain": [
       "Index(['success', 'extended', 'country', 'country_txt', 'region', 'region_txt',\n",
       "       'multiple', 'attacktype1', 'attacktype1_txt', 'targtype1',\n",
       "       'targtype1_txt', 'natlty1_txt', 'gname', 'gname_final', 'weaptype1_txt',\n",
       "       'ishostkid', 'nowa_gname_final', 'group_name'],\n",
       "      dtype='object')"
      ]
     },
     "execution_count": 21,
     "metadata": {},
     "output_type": "execute_result"
    }
   ],
   "source": [
    "dane.columns"
   ]
  },
  {
   "cell_type": "code",
   "execution_count": 22,
   "id": "32cba3d1",
   "metadata": {},
   "outputs": [
    {
     "data": {
      "text/plain": [
       "0    109211\n",
       "1      8585\n",
       "Name: extended, dtype: int64"
      ]
     },
     "execution_count": 22,
     "metadata": {},
     "output_type": "execute_result"
    }
   ],
   "source": [
    "dane[\"extended\"].value_counts()"
   ]
  },
  {
   "cell_type": "code",
   "execution_count": 23,
   "id": "d2915da0",
   "metadata": {},
   "outputs": [
    {
     "name": "stdout",
     "output_type": "stream",
     "text": [
      "success       0      1\n",
      "extended              \n",
      "0         14909  94302\n",
      "1            29   8556\n"
     ]
    }
   ],
   "source": [
    "tabela_licznosci = pd.crosstab(index=dane['extended'], columns=dane['success'])\n",
    "print(tabela_licznosci)"
   ]
  },
  {
   "cell_type": "code",
   "execution_count": 24,
   "id": "971b16a7",
   "metadata": {},
   "outputs": [
    {
     "data": {
      "text/plain": [
       "Iraq                 24124\n",
       "Afghanistan          15342\n",
       "Pakistan             11930\n",
       "India                 9988\n",
       "Nigeria               5204\n",
       "                     ...  \n",
       "Gambia                   1\n",
       "Bahamas                  1\n",
       "Romania                  1\n",
       "Equatorial Guinea        1\n",
       "El Salvador              1\n",
       "Name: country_txt, Length: 168, dtype: int64"
      ]
     },
     "execution_count": 24,
     "metadata": {},
     "output_type": "execute_result"
    }
   ],
   "source": [
    "dane[\"country_txt\"].value_counts()"
   ]
  },
  {
   "cell_type": "code",
   "execution_count": 25,
   "id": "45a87739",
   "metadata": {},
   "outputs": [
    {
     "name": "stdout",
     "output_type": "stream",
     "text": [
      "success            0      1\n",
      "country_txt                \n",
      "Afghanistan     1299  14043\n",
      "Albania            4     10\n",
      "Algeria           74    859\n",
      "Angola             2     63\n",
      "Argentina          4     30\n",
      "...              ...    ...\n",
      "Western Sahara     1      2\n",
      "Yemen            688   3699\n",
      "Yugoslavia         6     25\n",
      "Zambia             1     10\n",
      "Zimbabwe           1     28\n",
      "\n",
      "[168 rows x 2 columns]\n"
     ]
    }
   ],
   "source": [
    "tabela_licznosci_country = pd.crosstab(index=dane['country_txt'], columns=dane['success'])\n",
    "print(tabela_licznosci_country)"
   ]
  },
  {
   "cell_type": "code",
   "execution_count": 27,
   "id": "81af5c53",
   "metadata": {},
   "outputs": [
    {
     "name": "stdout",
     "output_type": "stream",
     "text": [
      "Oryginalna kolumna 'country_txt':\n",
      "0             Namibia\n",
      "1             Namibia\n",
      "2              Kosovo\n",
      "3          Bangladesh\n",
      "4               India\n",
      "             ...     \n",
      "119391           Iraq\n",
      "119392    Afghanistan\n",
      "119393        Myanmar\n",
      "119394        Nigeria\n",
      "119395       Colombia\n",
      "Name: country_txt, Length: 117796, dtype: object\n",
      "Zakodowana kolumna 'new_country_txt':\n",
      "0         96\n",
      "1         96\n",
      "2         54\n",
      "3         21\n",
      "4          4\n",
      "          ..\n",
      "119391     1\n",
      "119392     2\n",
      "119393    31\n",
      "119394     5\n",
      "119395    10\n",
      "Name: new_country_txt, Length: 117796, dtype: int64\n",
      "\n"
     ]
    }
   ],
   "source": [
    "encoder = OrdinalEncoder()\n",
    "\n",
    "kolumny_do_zakodowania = ['country_txt']\n",
    "\n",
    "for kolumna in kolumny_do_zakodowania:\n",
    "    czestotliwosci = dane[kolumna].value_counts()  \n",
    "    kategorie_zakodowane = {kategoria: i + 1 for i, kategoria in enumerate(czestotliwosci.index)} \n",
    "    nowa_nazwa_kolumny = 'new_' + kolumna\n",
    "    dane[nowa_nazwa_kolumny] = dane[kolumna].map(kategorie_zakodowane)  \n",
    "\n",
    "for kolumna in kolumny_do_zakodowania:\n",
    "    nowa_nazwa_kolumny = 'new_' + kolumna\n",
    "    print(f\"Oryginalna kolumna '{kolumna}':\")\n",
    "    print(dane[kolumna])\n",
    "    print(f\"Zakodowana kolumna '{nowa_nazwa_kolumny}':\")\n",
    "    print(dane[nowa_nazwa_kolumny])\n",
    "    print()"
   ]
  },
  {
   "cell_type": "code",
   "execution_count": 28,
   "id": "d3588083",
   "metadata": {},
   "outputs": [
    {
     "data": {
      "text/plain": [
       "1      24124\n",
       "2      15342\n",
       "3      11930\n",
       "4       9988\n",
       "5       5204\n",
       "       ...  \n",
       "164        1\n",
       "165        1\n",
       "166        1\n",
       "167        1\n",
       "168        1\n",
       "Name: new_country_txt, Length: 168, dtype: int64"
      ]
     },
     "execution_count": 28,
     "metadata": {},
     "output_type": "execute_result"
    }
   ],
   "source": [
    "dane[\"new_country_txt\"].value_counts()"
   ]
  },
  {
   "cell_type": "code",
   "execution_count": 29,
   "id": "15d5cd31",
   "metadata": {},
   "outputs": [
    {
     "name": "stdout",
     "output_type": "stream",
     "text": [
      "           country_txt  new_country_txt\n",
      "37                Iraq                1\n",
      "40         Afghanistan                2\n",
      "30            Pakistan                3\n",
      "3                India                4\n",
      "13             Nigeria                5\n",
      "..                 ...              ...\n",
      "71              Gambia              164\n",
      "155            Bahamas              165\n",
      "142            Romania              166\n",
      "147  Equatorial Guinea              167\n",
      "167        El Salvador              168\n",
      "\n",
      "[168 rows x 2 columns]\n"
     ]
    }
   ],
   "source": [
    "unikalny_df = pd.DataFrame({'country_txt': dane['country_txt'].unique(), 'new_country_txt': dane['new_country_txt'].unique()})\n",
    "posortowany_df = unikalny_df.sort_values(by='new_country_txt')\n",
    "\n",
    "print(posortowany_df)"
   ]
  },
  {
   "cell_type": "code",
   "execution_count": 30,
   "id": "844cd979",
   "metadata": {},
   "outputs": [
    {
     "data": {
      "text/plain": [
       "South Asia                     40589\n",
       "Middle East & North Africa     40470\n",
       "Sub-Saharan Africa             16124\n",
       "Southeast Asia                  9408\n",
       "Western Europe                  3612\n",
       "South America                   3077\n",
       "Eastern Europe                  2967\n",
       "North America                    898\n",
       "Central Asia                     214\n",
       "East Asia                        212\n",
       "Central America & Caribbean      117\n",
       "Australasia & Oceania            108\n",
       "Name: region_txt, dtype: int64"
      ]
     },
     "execution_count": 30,
     "metadata": {},
     "output_type": "execute_result"
    }
   ],
   "source": [
    "dane[\"region_txt\"].value_counts()"
   ]
  },
  {
   "cell_type": "code",
   "execution_count": 32,
   "id": "96e3415c",
   "metadata": {},
   "outputs": [],
   "source": [
    "regiony_do_zmiany = [\"North America\", \"Central Asia\", \"East Asia\", \"Central America & Caribbean\", \"Australasia & Oceania\"]\n",
    "nazwa_nowego_regionu = \"Other region\"\n",
    "\n",
    "dane['region_txt'] = dane['region_txt'].replace(regiony_do_zmiany, nazwa_nowego_regionu)"
   ]
  },
  {
   "cell_type": "code",
   "execution_count": 33,
   "id": "75ee55f1",
   "metadata": {},
   "outputs": [
    {
     "data": {
      "text/plain": [
       "South Asia                    40589\n",
       "Middle East & North Africa    40470\n",
       "Sub-Saharan Africa            16124\n",
       "Southeast Asia                 9408\n",
       "Western Europe                 3612\n",
       "South America                  3077\n",
       "Eastern Europe                 2967\n",
       "Other region                   1549\n",
       "Name: region_txt, dtype: int64"
      ]
     },
     "execution_count": 33,
     "metadata": {},
     "output_type": "execute_result"
    }
   ],
   "source": [
    "dane[\"region_txt\"].value_counts()"
   ]
  },
  {
   "cell_type": "code",
   "execution_count": 34,
   "id": "be9ea366",
   "metadata": {},
   "outputs": [
    {
     "name": "stdout",
     "output_type": "stream",
     "text": [
      "success                        0      1\n",
      "region_txt                             \n",
      "Eastern Europe               441   2526\n",
      "Middle East & North Africa  5110  35360\n",
      "Other region                 252   1297\n",
      "South America                337   2740\n",
      "South Asia                  5461  35128\n",
      "Southeast Asia              1218   8190\n",
      "Sub-Saharan Africa          1231  14893\n",
      "Western Europe               888   2724\n"
     ]
    }
   ],
   "source": [
    "tabela_licznosci_region = pd.crosstab(index=dane['region_txt'], columns=dane['success'])\n",
    "print(tabela_licznosci_region)"
   ]
  },
  {
   "cell_type": "code",
   "execution_count": 35,
   "id": "52639b34",
   "metadata": {
    "scrolled": true
   },
   "outputs": [
    {
     "data": {
      "text/plain": [
       "0.0    97776\n",
       "1.0    20020\n",
       "Name: multiple, dtype: int64"
      ]
     },
     "execution_count": 35,
     "metadata": {},
     "output_type": "execute_result"
    }
   ],
   "source": [
    "dane[\"multiple\"].value_counts()"
   ]
  },
  {
   "cell_type": "code",
   "execution_count": 36,
   "id": "19bde166",
   "metadata": {},
   "outputs": [
    {
     "name": "stdout",
     "output_type": "stream",
     "text": [
      "success       0      1\n",
      "multiple              \n",
      "0.0       12950  84826\n",
      "1.0        1988  18032\n"
     ]
    }
   ],
   "source": [
    "tabela_licznosci_multiple = pd.crosstab(index=dane['multiple'], columns=dane['success'])\n",
    "print(tabela_licznosci_multiple)"
   ]
  },
  {
   "cell_type": "code",
   "execution_count": 37,
   "id": "bc596f4a",
   "metadata": {
    "scrolled": true
   },
   "outputs": [
    {
     "data": {
      "text/plain": [
       "Bombing/Explosion                      58762\n",
       "Armed Assault                          26169\n",
       "Hostage Taking (Kidnapping)            10146\n",
       "Assassination                           8527\n",
       "Facility/Infrastructure Attack          7429\n",
       "Unknown                                 5158\n",
       "Unarmed Assault                          714\n",
       "Hostage Taking (Barricade Incident)      498\n",
       "Hijacking                                393\n",
       "Name: attacktype1_txt, dtype: int64"
      ]
     },
     "execution_count": 37,
     "metadata": {},
     "output_type": "execute_result"
    }
   ],
   "source": [
    "dane[\"attacktype1_txt\"].value_counts()"
   ]
  },
  {
   "cell_type": "code",
   "execution_count": 38,
   "id": "4e75c815",
   "metadata": {},
   "outputs": [
    {
     "name": "stdout",
     "output_type": "stream",
     "text": [
      "success                                 0      1\n",
      "attacktype1_txt                                 \n",
      "Armed Assault                        1754  24415\n",
      "Assassination                        3275   5252\n",
      "Bombing/Explosion                    8405  50357\n",
      "Facility/Infrastructure Attack        274   7155\n",
      "Hijacking                              29    364\n",
      "Hostage Taking (Barricade Incident)     6    492\n",
      "Hostage Taking (Kidnapping)           176   9970\n",
      "Unarmed Assault                        86    628\n",
      "Unknown                               933   4225\n"
     ]
    }
   ],
   "source": [
    "tabela_licznosci_attacktype1 = pd.crosstab(index=dane['attacktype1_txt'], columns=dane['success'])\n",
    "print(tabela_licznosci_attacktype1)"
   ]
  },
  {
   "cell_type": "code",
   "execution_count": 41,
   "id": "a1f336bd",
   "metadata": {},
   "outputs": [],
   "source": [
    "typy_ataku_do_zmiany = [\"Unarmed Assault\", \"Hostage Taking (Barricade Incident)\", \"Hijacking\", \"Unknown\"]\n",
    "nazwa_nowego_typu_ataku = \"Other attack type\"\n",
    "\n",
    "dane['attacktype1_txt'] = dane['attacktype1_txt'].replace(typy_ataku_do_zmiany, nazwa_nowego_typu_ataku)"
   ]
  },
  {
   "cell_type": "code",
   "execution_count": 42,
   "id": "2e11550e",
   "metadata": {},
   "outputs": [
    {
     "data": {
      "text/plain": [
       "Bombing/Explosion                 58762\n",
       "Armed Assault                     26169\n",
       "Hostage Taking (Kidnapping)       10146\n",
       "Assassination                      8527\n",
       "Facility/Infrastructure Attack     7429\n",
       "Other attack type                  6763\n",
       "Name: attacktype1_txt, dtype: int64"
      ]
     },
     "execution_count": 42,
     "metadata": {},
     "output_type": "execute_result"
    }
   ],
   "source": [
    "dane[\"attacktype1_txt\"].value_counts()"
   ]
  },
  {
   "cell_type": "code",
   "execution_count": 43,
   "id": "b6f0fa81",
   "metadata": {},
   "outputs": [
    {
     "name": "stdout",
     "output_type": "stream",
     "text": [
      "success                            0      1\n",
      "attacktype1_txt                            \n",
      "Armed Assault                   1754  24415\n",
      "Assassination                   3275   5252\n",
      "Bombing/Explosion               8405  50357\n",
      "Facility/Infrastructure Attack   274   7155\n",
      "Hostage Taking (Kidnapping)      176   9970\n",
      "Other attack type               1054   5709\n"
     ]
    }
   ],
   "source": [
    "tabela_licznosci_attacktype1 = pd.crosstab(index=dane['attacktype1_txt'], columns=dane['success'])\n",
    "print(tabela_licznosci_attacktype1)"
   ]
  },
  {
   "cell_type": "code",
   "execution_count": 44,
   "id": "e50f5fbd",
   "metadata": {
    "scrolled": true
   },
   "outputs": [
    {
     "data": {
      "text/plain": [
       "Private Citizens & Property       38928\n",
       "Police                            20863\n",
       "Government (General)              14672\n",
       "Business                          10236\n",
       "Military                           5044\n",
       "Unknown                            5017\n",
       "Religious Figures/Institutions     3701\n",
       "Transportation                     3508\n",
       "Educational Institution            3329\n",
       "Utilities                          2677\n",
       "Terrorists/Non-State Militia       2661\n",
       "Journalists & Media                1640\n",
       "Government (Diplomatic)            1477\n",
       "Violent Political Party            1192\n",
       "Telecommunication                   869\n",
       "NGO                                 784\n",
       "Airports & Aircraft                 434\n",
       "Maritime                            193\n",
       "Food or Water Supply                183\n",
       "Other                               180\n",
       "Tourists                            172\n",
       "Abortion Related                     36\n",
       "Name: targtype1_txt, dtype: int64"
      ]
     },
     "execution_count": 44,
     "metadata": {},
     "output_type": "execute_result"
    }
   ],
   "source": [
    "dane[\"targtype1_txt\"].value_counts()"
   ]
  },
  {
   "cell_type": "code",
   "execution_count": 45,
   "id": "75ae73e0",
   "metadata": {},
   "outputs": [],
   "source": [
    "typy_ofiary_do_zmiany_1 = [\"Police\", \"Military\"]\n",
    "nazwa_nowego_typu_ofiary_1 = \"Police & Military\"\n",
    "\n",
    "typy_ofiary_do_zmiany_2 = [\"Government (General)\", \"Government (Diplomatic)\", \"Violent Political Party\"]\n",
    "nazwa_nowego_typu_ofiary_2 = \"Authorities\"\n",
    "\n",
    "typy_ofiary_do_zmiany_3 = [\"Unknown\", \"Religious Figures/Institutions\", \"Transportation\", \"Educational Institution\",\n",
    "                            \"Utilities\", \"Terrorists/Non-State Militia\", \"Journalists & Media\", \"Telecommunication\", \"NGO\", \n",
    "                            \"Airports & Aircraft\", \"Maritime\", \"Food or Water Supply\", \"Other\", \"Tourists\", \"Abortion Related\"]\n",
    "nazwa_nowego_typu_ofiary_3 = \"Other\"\n",
    "\n",
    "dane['targtype1_txt'] = dane['targtype1_txt'].replace(typy_ofiary_do_zmiany_1, nazwa_nowego_typu_ofiary_1)\n",
    "dane['targtype1_txt'] = dane['targtype1_txt'].replace(typy_ofiary_do_zmiany_2, nazwa_nowego_typu_ofiary_2)\n",
    "dane['targtype1_txt'] = dane['targtype1_txt'].replace(typy_ofiary_do_zmiany_3, nazwa_nowego_typu_ofiary_3)"
   ]
  },
  {
   "cell_type": "code",
   "execution_count": 46,
   "id": "008cd07f",
   "metadata": {},
   "outputs": [
    {
     "data": {
      "text/plain": [
       "Private Citizens & Property    38928\n",
       "Police & Military              25907\n",
       "Other                          25384\n",
       "Authorities                    17341\n",
       "Business                       10236\n",
       "Name: targtype1_txt, dtype: int64"
      ]
     },
     "execution_count": 46,
     "metadata": {},
     "output_type": "execute_result"
    }
   ],
   "source": [
    "dane[\"targtype1_txt\"].value_counts()"
   ]
  },
  {
   "cell_type": "code",
   "execution_count": 47,
   "id": "a5728fe6",
   "metadata": {},
   "outputs": [
    {
     "name": "stdout",
     "output_type": "stream",
     "text": [
      "success                         0      1\n",
      "targtype1_txt                           \n",
      "Authorities                  3115  14226\n",
      "Business                      626   9610\n",
      "Other                        5794  19590\n",
      "Police & Military            2538  23369\n",
      "Private Citizens & Property  2865  36063\n"
     ]
    }
   ],
   "source": [
    "tabela_licznosci_targtype1 = pd.crosstab(index=dane['targtype1_txt'], columns=dane['success'])\n",
    "print(tabela_licznosci_targtype1)"
   ]
  },
  {
   "cell_type": "code",
   "execution_count": 48,
   "id": "794e42c9",
   "metadata": {
    "scrolled": true
   },
   "outputs": [
    {
     "data": {
      "text/plain": [
       " 0.0    105869\n",
       " 1.0     11385\n",
       "-9.0       542\n",
       "Name: ishostkid, dtype: int64"
      ]
     },
     "execution_count": 48,
     "metadata": {},
     "output_type": "execute_result"
    }
   ],
   "source": [
    "dane[\"ishostkid\"].value_counts()"
   ]
  },
  {
   "cell_type": "code",
   "execution_count": 49,
   "id": "f6d26bbb",
   "metadata": {
    "scrolled": true
   },
   "outputs": [
    {
     "data": {
      "text/plain": [
       "0.0    106411\n",
       "1.0     11385\n",
       "Name: ishostkid, dtype: int64"
      ]
     },
     "execution_count": 49,
     "metadata": {},
     "output_type": "execute_result"
    }
   ],
   "source": [
    "dane['ishostkid'] = dane['ishostkid'].replace(-9, 0)\n",
    "dane[\"ishostkid\"].value_counts()"
   ]
  },
  {
   "cell_type": "code",
   "execution_count": 50,
   "id": "0a6912ae",
   "metadata": {},
   "outputs": [
    {
     "name": "stdout",
     "output_type": "stream",
     "text": [
      "success        0      1\n",
      "ishostkid              \n",
      "0.0        14905  91506\n",
      "1.0           33  11352\n"
     ]
    }
   ],
   "source": [
    "tabela_licznosci_ishostkid = pd.crosstab(index=dane['ishostkid'], columns=dane['success'])\n",
    "print(tabela_licznosci_ishostkid)"
   ]
  },
  {
   "cell_type": "code",
   "execution_count": 51,
   "id": "654bd013",
   "metadata": {},
   "outputs": [
    {
     "data": {
      "text/plain": [
       "Unknown                                                 58816\n",
       "Other group                                             20375\n",
       "Taliban                                                 11004\n",
       "Islamic State (IS)                                       7635\n",
       "Boko Haram                                               2908\n",
       "Al-Shabaab                                               2768\n",
       "Houthi                                                   2691\n",
       "Communist Party of India - Maoist (CPI-Maoist)           2036\n",
       "New People's Army (NPA)                                  1622\n",
       "Al-Qaida                                                 1555\n",
       "Revolutionary Armed Forces of Colombia (FARC)            1296\n",
       "Kurdistan Workers' Party (PKK)                           1024\n",
       "National Liberation Army of Colombia (ELN)                586\n",
       "Liberation Tigers of Tamil Eelam (LTTE)                   497\n",
       "Abu Sayyaf Group (ASG)                                    460\n",
       "Allied Democratic Forces (ADF)                            422\n",
       "Hamas                                                     340\n",
       "United Liberation Front of Assam (ULFA)                   315\n",
       "Bangsamoro Islamic Freedom Movement (BIFM)                307\n",
       "Communist Party of Nepal - Maoist (CPN-Maoist-Chand)      299\n",
       "Lord's Resistance Army (LRA)                              285\n",
       "Moro Islamic Liberation Front (MILF)                      283\n",
       "Baloch Republican Army (BRA)                              272\n",
       "Name: gname_final, dtype: int64"
      ]
     },
     "execution_count": 51,
     "metadata": {},
     "output_type": "execute_result"
    }
   ],
   "source": [
    "dane[\"gname_final\"].value_counts()"
   ]
  },
  {
   "cell_type": "code",
   "execution_count": 52,
   "id": "0fe31f72",
   "metadata": {},
   "outputs": [
    {
     "name": "stdout",
     "output_type": "stream",
     "text": [
      "success                                                0      1\n",
      "gname_final                                                    \n",
      "Abu Sayyaf Group (ASG)                                66    394\n",
      "Al-Qaida                                             127   1428\n",
      "Al-Shabaab                                           258   2510\n",
      "Allied Democratic Forces (ADF)                        10    412\n",
      "Baloch Republican Army (BRA)                          19    253\n",
      "Bangsamoro Islamic Freedom Movement (BIFM)            93    214\n",
      "Boko Haram                                           208   2700\n",
      "Communist Party of India - Maoist (CPI-Maoist)       134   1902\n",
      "Communist Party of Nepal - Maoist (CPN-Maoist-C...    93    206\n",
      "Hamas                                                 46    294\n",
      "Houthi                                               519   2172\n",
      "Islamic State (IS)                                   833   6802\n",
      "Kurdistan Workers' Party (PKK)                        84    940\n",
      "Liberation Tigers of Tamil Eelam (LTTE)               23    474\n",
      "Lord's Resistance Army (LRA)                           9    276\n",
      "Moro Islamic Liberation Front (MILF)                  22    261\n",
      "National Liberation Army of Colombia (ELN)            48    538\n",
      "New People's Army (NPA)                              216   1406\n",
      "Other group                                         2136  18239\n",
      "Revolutionary Armed Forces of Colombia (FARC)        167   1129\n",
      "Taliban                                              858  10146\n",
      "United Liberation Front of Assam (ULFA)               36    279\n",
      "Unknown                                             8933  49883\n"
     ]
    }
   ],
   "source": [
    "tabela_licznosci_gname = pd.crosstab(index=dane['gname_final'], columns=dane['success'])\n",
    "print(tabela_licznosci_gname)"
   ]
  },
  {
   "cell_type": "markdown",
   "id": "e16863e3",
   "metadata": {},
   "source": [
    "### one-hot encoding"
   ]
  },
  {
   "cell_type": "code",
   "execution_count": 53,
   "id": "197ea6fd",
   "metadata": {},
   "outputs": [
    {
     "name": "stdout",
     "output_type": "stream",
     "text": [
      "   success  extended  country country_txt  region          region_txt  \\\n",
      "0        1         0      139     Namibia      11  Sub-Saharan Africa   \n",
      "1        1         1      139     Namibia      11  Sub-Saharan Africa   \n",
      "2        1         0     1003      Kosovo       9      Eastern Europe   \n",
      "3        1         0       19  Bangladesh       6          South Asia   \n",
      "4        1         0       92       India       6          South Asia   \n",
      "\n",
      "   multiple  attacktype1              attacktype1_txt  targtype1  ...  \\\n",
      "0       1.0            2                Armed Assault          1  ...   \n",
      "1       1.0            6  Hostage Taking (Kidnapping)          1  ...   \n",
      "2       0.0            3            Bombing/Explosion         14  ...   \n",
      "3       1.0            2                Armed Assault         14  ...   \n",
      "4       0.0            3            Bombing/Explosion         21  ...   \n",
      "\n",
      "  attack_Assassination attack_Bombing/Explosion  \\\n",
      "0                    0                        0   \n",
      "1                    0                        0   \n",
      "2                    0                        1   \n",
      "3                    0                        0   \n",
      "4                    0                        1   \n",
      "\n",
      "  attack_Facility/Infrastructure Attack attack_Hostage Taking (Kidnapping)  \\\n",
      "0                                     0                                  0   \n",
      "1                                     0                                  1   \n",
      "2                                     0                                  0   \n",
      "3                                     0                                  0   \n",
      "4                                     0                                  0   \n",
      "\n",
      "  attack_Other attack type  targtype_Authorities  targtype_Business  \\\n",
      "0                        0                     0                  1   \n",
      "1                        0                     0                  1   \n",
      "2                        0                     0                  0   \n",
      "3                        0                     0                  0   \n",
      "4                        0                     0                  0   \n",
      "\n",
      "   targtype_Other  targtype_Police & Military  \\\n",
      "0               0                           0   \n",
      "1               0                           0   \n",
      "2               0                           0   \n",
      "3               0                           0   \n",
      "4               1                           0   \n",
      "\n",
      "   targtype_Private Citizens & Property  \n",
      "0                                     0  \n",
      "1                                     0  \n",
      "2                                     1  \n",
      "3                                     1  \n",
      "4                                     0  \n",
      "\n",
      "[5 rows x 39 columns]\n"
     ]
    }
   ],
   "source": [
    "region_one_hot = pd.get_dummies(dane['region_txt'], prefix='region')\n",
    "dane = pd.concat([dane, region_one_hot], axis=1)\n",
    "\n",
    "\n",
    "attack_one_hot = pd.get_dummies(dane['attacktype1_txt'], prefix='attack')\n",
    "dane = pd.concat([dane, attack_one_hot], axis=1)\n",
    "\n",
    "targtype_one_hot = pd.get_dummies(dane['targtype1_txt'], prefix = 'targtype')\n",
    "dane = pd.concat([dane, targtype_one_hot], axis = 1)\n",
    "\n",
    "\n",
    "print(dane.head())"
   ]
  },
  {
   "cell_type": "code",
   "execution_count": 54,
   "id": "48431728",
   "metadata": {},
   "outputs": [
    {
     "data": {
      "text/plain": [
       "Index(['success', 'extended', 'country', 'country_txt', 'region', 'region_txt',\n",
       "       'multiple', 'attacktype1', 'attacktype1_txt', 'targtype1',\n",
       "       'targtype1_txt', 'natlty1_txt', 'gname', 'gname_final', 'weaptype1_txt',\n",
       "       'ishostkid', 'nowa_gname_final', 'group_name', 'nowa_country_txt',\n",
       "       'new_country_txt', 'region_Eastern Europe',\n",
       "       'region_Middle East & North Africa', 'region_Other region',\n",
       "       'region_South America', 'region_South Asia', 'region_Southeast Asia',\n",
       "       'region_Sub-Saharan Africa', 'region_Western Europe',\n",
       "       'attack_Armed Assault', 'attack_Assassination',\n",
       "       'attack_Bombing/Explosion', 'attack_Facility/Infrastructure Attack',\n",
       "       'attack_Hostage Taking (Kidnapping)', 'attack_Other attack type',\n",
       "       'targtype_Authorities', 'targtype_Business', 'targtype_Other',\n",
       "       'targtype_Police & Military', 'targtype_Private Citizens & Property'],\n",
       "      dtype='object')"
      ]
     },
     "execution_count": 54,
     "metadata": {},
     "output_type": "execute_result"
    }
   ],
   "source": [
    "dane.columns"
   ]
  },
  {
   "cell_type": "code",
   "execution_count": 55,
   "id": "047bd83a",
   "metadata": {},
   "outputs": [
    {
     "name": "stdout",
     "output_type": "stream",
     "text": [
      "<class 'pandas.core.frame.DataFrame'>\n",
      "Int64Index: 117796 entries, 0 to 119395\n",
      "Data columns (total 39 columns):\n",
      " #   Column                                 Non-Null Count   Dtype  \n",
      "---  ------                                 --------------   -----  \n",
      " 0   success                                117796 non-null  int64  \n",
      " 1   extended                               117796 non-null  int64  \n",
      " 2   country                                117796 non-null  int64  \n",
      " 3   country_txt                            117796 non-null  object \n",
      " 4   region                                 117796 non-null  int64  \n",
      " 5   region_txt                             117796 non-null  object \n",
      " 6   multiple                               117796 non-null  float64\n",
      " 7   attacktype1                            117796 non-null  int64  \n",
      " 8   attacktype1_txt                        117796 non-null  object \n",
      " 9   targtype1                              117796 non-null  int64  \n",
      " 10  targtype1_txt                          117796 non-null  object \n",
      " 11  natlty1_txt                            117796 non-null  object \n",
      " 12  gname                                  117796 non-null  object \n",
      " 13  gname_final                            117796 non-null  object \n",
      " 14  weaptype1_txt                          117796 non-null  object \n",
      " 15  ishostkid                              117796 non-null  float64\n",
      " 16  nowa_gname_final                       117796 non-null  int64  \n",
      " 17  group_name                             117796 non-null  int64  \n",
      " 18  nowa_country_txt                       117796 non-null  int64  \n",
      " 19  new_country_txt                        117796 non-null  int64  \n",
      " 20  region_Eastern Europe                  117796 non-null  uint8  \n",
      " 21  region_Middle East & North Africa      117796 non-null  uint8  \n",
      " 22  region_Other region                    117796 non-null  uint8  \n",
      " 23  region_South America                   117796 non-null  uint8  \n",
      " 24  region_South Asia                      117796 non-null  uint8  \n",
      " 25  region_Southeast Asia                  117796 non-null  uint8  \n",
      " 26  region_Sub-Saharan Africa              117796 non-null  uint8  \n",
      " 27  region_Western Europe                  117796 non-null  uint8  \n",
      " 28  attack_Armed Assault                   117796 non-null  uint8  \n",
      " 29  attack_Assassination                   117796 non-null  uint8  \n",
      " 30  attack_Bombing/Explosion               117796 non-null  uint8  \n",
      " 31  attack_Facility/Infrastructure Attack  117796 non-null  uint8  \n",
      " 32  attack_Hostage Taking (Kidnapping)     117796 non-null  uint8  \n",
      " 33  attack_Other attack type               117796 non-null  uint8  \n",
      " 34  targtype_Authorities                   117796 non-null  uint8  \n",
      " 35  targtype_Business                      117796 non-null  uint8  \n",
      " 36  targtype_Other                         117796 non-null  uint8  \n",
      " 37  targtype_Police & Military             117796 non-null  uint8  \n",
      " 38  targtype_Private Citizens & Property   117796 non-null  uint8  \n",
      "dtypes: float64(2), int64(10), object(8), uint8(19)\n",
      "memory usage: 21.0+ MB\n"
     ]
    }
   ],
   "source": [
    "dane.info()"
   ]
  },
  {
   "cell_type": "code",
   "execution_count": 56,
   "id": "1276308d",
   "metadata": {},
   "outputs": [],
   "source": [
    "dane = dane[['success', 'extended', 'multiple', 'group_name',\n",
    "        'region_Eastern Europe',\n",
    "       'region_Middle East & North Africa', 'region_Other region',\n",
    "       'region_South America', 'region_South Asia', 'region_Southeast Asia',\n",
    "       'region_Sub-Saharan Africa', 'region_Western Europe',\n",
    "       'attack_Armed Assault', 'attack_Assassination',\n",
    "       'attack_Bombing/Explosion', 'attack_Facility/Infrastructure Attack',\n",
    "       'attack_Hostage Taking (Kidnapping)', 'attack_Other attack type',\n",
    "        'targtype_Authorities', 'targtype_Business',\n",
    "       'targtype_Other', 'targtype_Police & Military',\n",
    "       'targtype_Private Citizens & Property'\n",
    "                ]]"
   ]
  },
  {
   "cell_type": "code",
   "execution_count": 57,
   "id": "70d2ba59",
   "metadata": {
    "scrolled": false
   },
   "outputs": [
    {
     "data": {
      "text/plain": [
       "Index(['success', 'extended', 'multiple', 'group_name',\n",
       "       'region_Eastern Europe', 'region_Middle East & North Africa',\n",
       "       'region_Other region', 'region_South America', 'region_South Asia',\n",
       "       'region_Southeast Asia', 'region_Sub-Saharan Africa',\n",
       "       'region_Western Europe', 'attack_Armed Assault', 'attack_Assassination',\n",
       "       'attack_Bombing/Explosion', 'attack_Facility/Infrastructure Attack',\n",
       "       'attack_Hostage Taking (Kidnapping)', 'attack_Other attack type',\n",
       "       'targtype_Authorities', 'targtype_Business', 'targtype_Other',\n",
       "       'targtype_Police & Military', 'targtype_Private Citizens & Property'],\n",
       "      dtype='object')"
      ]
     },
     "execution_count": 57,
     "metadata": {},
     "output_type": "execute_result"
    }
   ],
   "source": [
    "dane.columns"
   ]
  },
  {
   "cell_type": "code",
   "execution_count": 58,
   "id": "05b6b6a2",
   "metadata": {
    "scrolled": false
   },
   "outputs": [
    {
     "name": "stdout",
     "output_type": "stream",
     "text": [
      "<class 'pandas.core.frame.DataFrame'>\n",
      "Int64Index: 117796 entries, 0 to 119395\n",
      "Data columns (total 23 columns):\n",
      " #   Column                                 Non-Null Count   Dtype  \n",
      "---  ------                                 --------------   -----  \n",
      " 0   success                                117796 non-null  int64  \n",
      " 1   extended                               117796 non-null  int64  \n",
      " 2   multiple                               117796 non-null  float64\n",
      " 3   group_name                             117796 non-null  int64  \n",
      " 4   region_Eastern Europe                  117796 non-null  uint8  \n",
      " 5   region_Middle East & North Africa      117796 non-null  uint8  \n",
      " 6   region_Other region                    117796 non-null  uint8  \n",
      " 7   region_South America                   117796 non-null  uint8  \n",
      " 8   region_South Asia                      117796 non-null  uint8  \n",
      " 9   region_Southeast Asia                  117796 non-null  uint8  \n",
      " 10  region_Sub-Saharan Africa              117796 non-null  uint8  \n",
      " 11  region_Western Europe                  117796 non-null  uint8  \n",
      " 12  attack_Armed Assault                   117796 non-null  uint8  \n",
      " 13  attack_Assassination                   117796 non-null  uint8  \n",
      " 14  attack_Bombing/Explosion               117796 non-null  uint8  \n",
      " 15  attack_Facility/Infrastructure Attack  117796 non-null  uint8  \n",
      " 16  attack_Hostage Taking (Kidnapping)     117796 non-null  uint8  \n",
      " 17  attack_Other attack type               117796 non-null  uint8  \n",
      " 18  targtype_Authorities                   117796 non-null  uint8  \n",
      " 19  targtype_Business                      117796 non-null  uint8  \n",
      " 20  targtype_Other                         117796 non-null  uint8  \n",
      " 21  targtype_Police & Military             117796 non-null  uint8  \n",
      " 22  targtype_Private Citizens & Property   117796 non-null  uint8  \n",
      "dtypes: float64(1), int64(3), uint8(19)\n",
      "memory usage: 6.6 MB\n"
     ]
    }
   ],
   "source": [
    "dane.info()"
   ]
  },
  {
   "cell_type": "code",
   "execution_count": 59,
   "id": "29a0d657",
   "metadata": {
    "scrolled": true
   },
   "outputs": [],
   "source": [
    "dane[\"multiple\"] = dane[\"multiple\"].astype(int)"
   ]
  },
  {
   "cell_type": "markdown",
   "id": "388364d7",
   "metadata": {},
   "source": [
    "### Oversampling"
   ]
  },
  {
   "cell_type": "code",
   "execution_count": 60,
   "id": "f25c2db8",
   "metadata": {},
   "outputs": [],
   "source": [
    "oversampler = RandomOverSampler(random_state=42)\n",
    "\n",
    "x = dane.drop('success', axis=1)\n",
    "y = dane['success']\n",
    "\n",
    "\n",
    "x_oversampling, y_oversampling = oversampler.fit_resample(x, y)"
   ]
  },
  {
   "cell_type": "code",
   "execution_count": 61,
   "id": "c1b4b1d1",
   "metadata": {},
   "outputs": [
    {
     "data": {
      "text/plain": [
       "(205716, 22)"
      ]
     },
     "execution_count": 61,
     "metadata": {},
     "output_type": "execute_result"
    }
   ],
   "source": [
    "x_oversampling.shape"
   ]
  },
  {
   "cell_type": "code",
   "execution_count": 62,
   "id": "a4fd4d53",
   "metadata": {},
   "outputs": [
    {
     "data": {
      "text/plain": [
       "(205716,)"
      ]
     },
     "execution_count": 62,
     "metadata": {},
     "output_type": "execute_result"
    }
   ],
   "source": [
    "y_oversampling.shape"
   ]
  },
  {
   "cell_type": "code",
   "execution_count": 63,
   "id": "ff8d10c7",
   "metadata": {},
   "outputs": [
    {
     "name": "stdout",
     "output_type": "stream",
     "text": [
      "Liczność klas przed oversamplingiem:\n",
      "1    102858\n",
      "0     14938\n",
      "Name: success, dtype: int64\n",
      "Liczność klas po oversamplingu:\n",
      "1    102858\n",
      "0    102858\n",
      "Name: success, dtype: int64\n"
     ]
    }
   ],
   "source": [
    "print(\"Liczność klas przed oversamplingiem:\")\n",
    "print(y.value_counts())\n",
    "\n",
    "\n",
    "print(\"Liczność klas po oversamplingu:\")\n",
    "print(pd.Series(y_oversampling).value_counts())"
   ]
  },
  {
   "cell_type": "markdown",
   "id": "9d418c6c",
   "metadata": {},
   "source": [
    "## Drzewo decyzyjne"
   ]
  },
  {
   "cell_type": "markdown",
   "id": "27627b49",
   "metadata": {},
   "source": [
    "### Budowa modelu"
   ]
  },
  {
   "cell_type": "code",
   "execution_count": 64,
   "id": "40c586cf",
   "metadata": {},
   "outputs": [],
   "source": [
    "dane_train_x, dane_test_x, dane_train_y, dane_test_y = train_test_split(x_oversampling, y_oversampling, test_size=0.3, random_state=1)"
   ]
  },
  {
   "cell_type": "code",
   "execution_count": 65,
   "id": "f813c49f",
   "metadata": {},
   "outputs": [],
   "source": [
    "tree = DecisionTreeClassifier(random_state = 0, max_depth = 6, min_samples_leaf = 100)"
   ]
  },
  {
   "cell_type": "code",
   "execution_count": 66,
   "id": "ad28ff8d",
   "metadata": {},
   "outputs": [
    {
     "data": {
      "text/html": [
       "<style>#sk-container-id-1 {color: black;}#sk-container-id-1 pre{padding: 0;}#sk-container-id-1 div.sk-toggleable {background-color: white;}#sk-container-id-1 label.sk-toggleable__label {cursor: pointer;display: block;width: 100%;margin-bottom: 0;padding: 0.3em;box-sizing: border-box;text-align: center;}#sk-container-id-1 label.sk-toggleable__label-arrow:before {content: \"▸\";float: left;margin-right: 0.25em;color: #696969;}#sk-container-id-1 label.sk-toggleable__label-arrow:hover:before {color: black;}#sk-container-id-1 div.sk-estimator:hover label.sk-toggleable__label-arrow:before {color: black;}#sk-container-id-1 div.sk-toggleable__content {max-height: 0;max-width: 0;overflow: hidden;text-align: left;background-color: #f0f8ff;}#sk-container-id-1 div.sk-toggleable__content pre {margin: 0.2em;color: black;border-radius: 0.25em;background-color: #f0f8ff;}#sk-container-id-1 input.sk-toggleable__control:checked~div.sk-toggleable__content {max-height: 200px;max-width: 100%;overflow: auto;}#sk-container-id-1 input.sk-toggleable__control:checked~label.sk-toggleable__label-arrow:before {content: \"▾\";}#sk-container-id-1 div.sk-estimator input.sk-toggleable__control:checked~label.sk-toggleable__label {background-color: #d4ebff;}#sk-container-id-1 div.sk-label input.sk-toggleable__control:checked~label.sk-toggleable__label {background-color: #d4ebff;}#sk-container-id-1 input.sk-hidden--visually {border: 0;clip: rect(1px 1px 1px 1px);clip: rect(1px, 1px, 1px, 1px);height: 1px;margin: -1px;overflow: hidden;padding: 0;position: absolute;width: 1px;}#sk-container-id-1 div.sk-estimator {font-family: monospace;background-color: #f0f8ff;border: 1px dotted black;border-radius: 0.25em;box-sizing: border-box;margin-bottom: 0.5em;}#sk-container-id-1 div.sk-estimator:hover {background-color: #d4ebff;}#sk-container-id-1 div.sk-parallel-item::after {content: \"\";width: 100%;border-bottom: 1px solid gray;flex-grow: 1;}#sk-container-id-1 div.sk-label:hover label.sk-toggleable__label {background-color: #d4ebff;}#sk-container-id-1 div.sk-serial::before {content: \"\";position: absolute;border-left: 1px solid gray;box-sizing: border-box;top: 0;bottom: 0;left: 50%;z-index: 0;}#sk-container-id-1 div.sk-serial {display: flex;flex-direction: column;align-items: center;background-color: white;padding-right: 0.2em;padding-left: 0.2em;position: relative;}#sk-container-id-1 div.sk-item {position: relative;z-index: 1;}#sk-container-id-1 div.sk-parallel {display: flex;align-items: stretch;justify-content: center;background-color: white;position: relative;}#sk-container-id-1 div.sk-item::before, #sk-container-id-1 div.sk-parallel-item::before {content: \"\";position: absolute;border-left: 1px solid gray;box-sizing: border-box;top: 0;bottom: 0;left: 50%;z-index: -1;}#sk-container-id-1 div.sk-parallel-item {display: flex;flex-direction: column;z-index: 1;position: relative;background-color: white;}#sk-container-id-1 div.sk-parallel-item:first-child::after {align-self: flex-end;width: 50%;}#sk-container-id-1 div.sk-parallel-item:last-child::after {align-self: flex-start;width: 50%;}#sk-container-id-1 div.sk-parallel-item:only-child::after {width: 0;}#sk-container-id-1 div.sk-dashed-wrapped {border: 1px dashed gray;margin: 0 0.4em 0.5em 0.4em;box-sizing: border-box;padding-bottom: 0.4em;background-color: white;}#sk-container-id-1 div.sk-label label {font-family: monospace;font-weight: bold;display: inline-block;line-height: 1.2em;}#sk-container-id-1 div.sk-label-container {text-align: center;}#sk-container-id-1 div.sk-container {/* jupyter's `normalize.less` sets `[hidden] { display: none; }` but bootstrap.min.css set `[hidden] { display: none !important; }` so we also need the `!important` here to be able to override the default hidden behavior on the sphinx rendered scikit-learn.org. See: https://github.com/scikit-learn/scikit-learn/issues/21755 */display: inline-block !important;position: relative;}#sk-container-id-1 div.sk-text-repr-fallback {display: none;}</style><div id=\"sk-container-id-1\" class=\"sk-top-container\"><div class=\"sk-text-repr-fallback\"><pre>DecisionTreeClassifier(max_depth=6, min_samples_leaf=100, random_state=0)</pre><b>In a Jupyter environment, please rerun this cell to show the HTML representation or trust the notebook. <br />On GitHub, the HTML representation is unable to render, please try loading this page with nbviewer.org.</b></div><div class=\"sk-container\" hidden><div class=\"sk-item\"><div class=\"sk-estimator sk-toggleable\"><input class=\"sk-toggleable__control sk-hidden--visually\" id=\"sk-estimator-id-1\" type=\"checkbox\" checked><label for=\"sk-estimator-id-1\" class=\"sk-toggleable__label sk-toggleable__label-arrow\">DecisionTreeClassifier</label><div class=\"sk-toggleable__content\"><pre>DecisionTreeClassifier(max_depth=6, min_samples_leaf=100, random_state=0)</pre></div></div></div></div></div>"
      ],
      "text/plain": [
       "DecisionTreeClassifier(max_depth=6, min_samples_leaf=100, random_state=0)"
      ]
     },
     "execution_count": 66,
     "metadata": {},
     "output_type": "execute_result"
    }
   ],
   "source": [
    "tree.fit(dane_train_x, dane_train_y)"
   ]
  },
  {
   "cell_type": "code",
   "execution_count": 67,
   "id": "bc2d2f27",
   "metadata": {},
   "outputs": [],
   "source": [
    "y_predykcja_train = tree.predict(dane_train_x)"
   ]
  },
  {
   "cell_type": "code",
   "execution_count": 68,
   "id": "8de51fbb",
   "metadata": {},
   "outputs": [
    {
     "name": "stdout",
     "output_type": "stream",
     "text": [
      "Dokładność klasyfikacji na danych uczących:  0.7199\n"
     ]
    }
   ],
   "source": [
    "dokladnosc_train = accuracy_score(dane_train_y, y_predykcja_train)\n",
    "print(\"Dokładność klasyfikacji na danych uczących: \", round(dokladnosc_train,4))"
   ]
  },
  {
   "cell_type": "code",
   "execution_count": 69,
   "id": "6a88f929",
   "metadata": {},
   "outputs": [],
   "source": [
    "y_predykcja_test = tree.predict(dane_test_x)"
   ]
  },
  {
   "cell_type": "code",
   "execution_count": 70,
   "id": "ac69b589",
   "metadata": {},
   "outputs": [
    {
     "name": "stdout",
     "output_type": "stream",
     "text": [
      "Dokładność klasyfikacji na danych testowych:  0.7213\n"
     ]
    }
   ],
   "source": [
    "dokladnosc_test = accuracy_score(dane_test_y, y_predykcja_test)\n",
    "print(\"Dokładność klasyfikacji na danych testowych: \", round(dokladnosc_test,4))"
   ]
  },
  {
   "cell_type": "markdown",
   "id": "d224b1b6",
   "metadata": {},
   "source": [
    "### Walidacja krzyżowa"
   ]
  },
  {
   "cell_type": "code",
   "execution_count": 71,
   "id": "5b7d181a",
   "metadata": {},
   "outputs": [
    {
     "name": "stdout",
     "output_type": "stream",
     "text": [
      "Dokładność predykcji:  [0.72773669 0.7225     0.7178125  0.71979167 0.71833333 0.71510417\n",
      " 0.72291667 0.70979167 0.71614583 0.71489583 0.7190625  0.72677083\n",
      " 0.71802083 0.719375   0.72322917]\n",
      "Średnia dokładność:  0.7194\n"
     ]
    }
   ],
   "source": [
    "scores_tree = cross_val_score(tree, dane_train_x, dane_train_y, cv = 15)\n",
    "\n",
    "print(\"Dokładność predykcji: \", scores_tree)\n",
    "print(\"Średnia dokładność: \", round(scores_tree.mean(),4))"
   ]
  },
  {
   "cell_type": "markdown",
   "id": "6192f0f7",
   "metadata": {},
   "source": [
    "### Wykres drzewa"
   ]
  },
  {
   "cell_type": "code",
   "execution_count": 72,
   "id": "e45279e4",
   "metadata": {},
   "outputs": [
    {
     "data": {
      "text/plain": [
       "(61715, 22)"
      ]
     },
     "execution_count": 72,
     "metadata": {},
     "output_type": "execute_result"
    }
   ],
   "source": [
    "dane_test_x.shape"
   ]
  },
  {
   "cell_type": "code",
   "execution_count": 73,
   "id": "4c13a7f6",
   "metadata": {},
   "outputs": [
    {
     "data": {
      "text/plain": [
       "'Source.gv.pdf'"
      ]
     },
     "execution_count": 73,
     "metadata": {},
     "output_type": "execute_result"
    }
   ],
   "source": [
    "kolumny = dane_test_x.columns\n",
    "col = kolumny[0:23]\n",
    "\n",
    "drzewo = export_graphviz(tree, out_file=None, feature_names=col, filled=True, rounded=True)\n",
    "\n",
    "graph = graphviz.Source(drzewo)\n",
    "graph.view()"
   ]
  },
  {
   "cell_type": "code",
   "execution_count": 74,
   "id": "426744f2",
   "metadata": {},
   "outputs": [
    {
     "name": "stdout",
     "output_type": "stream",
     "text": [
      "                                    Cecha  Ważność\n",
      "19                         targtype_Other   0.3153\n",
      "12                   attack_Assassination   0.2602\n",
      "13               attack_Bombing/Explosion   0.1653\n",
      "0                                extended   0.0820\n",
      "16               attack_Other attack type   0.0572\n",
      "10                  region_Western Europe   0.0411\n",
      "2                              group_name   0.0188\n",
      "14  attack_Facility/Infrastructure Attack   0.0162\n",
      "21   targtype_Private Citizens & Property   0.0118\n",
      "4       region_Middle East & North Africa   0.0083\n",
      "1                                multiple   0.0064\n",
      "6                    region_South America   0.0038\n",
      "9               region_Sub-Saharan Africa   0.0036\n",
      "17                   targtype_Authorities   0.0033\n",
      "7                       region_South Asia   0.0030\n",
      "8                   region_Southeast Asia   0.0020\n",
      "20             targtype_Police & Military   0.0015\n",
      "15     attack_Hostage Taking (Kidnapping)   0.0003\n",
      "18                      targtype_Business   0.0000\n",
      "5                     region_Other region   0.0000\n",
      "3                   region_Eastern Europe   0.0000\n",
      "11                   attack_Armed Assault   0.0000\n"
     ]
    }
   ],
   "source": [
    "waznosc = tree.feature_importances_\n",
    "cechy = dane_train_x.columns\n",
    "\n",
    "\n",
    "waznosc_df = pd.DataFrame({'Cecha': cechy, 'Ważność': waznosc})\n",
    "waznosc_df = waznosc_df.sort_values(by='Ważność', ascending=False)\n",
    "waznosc_df['Ważność'] = round(waznosc_df['Ważność'], 4)\n",
    "\n",
    "print(waznosc_df)"
   ]
  },
  {
   "cell_type": "code",
   "execution_count": 75,
   "id": "43fff2a3",
   "metadata": {},
   "outputs": [
    {
     "data": {
      "image/png": "[encoded data removed]",
      "text/plain": [
       "<Figure size 720x432 with 1 Axes>"
      ]
     },
     "metadata": {
      "needs_background": "light"
     },
     "output_type": "display_data"
    }
   ],
   "source": [
    "plt.figure(figsize=(10, 6))\n",
    "plt.bar(waznosc_df['Cecha'], waznosc_df['Ważność'], color='royalblue')\n",
    "\n",
    "\n",
    "plt.title('Ważność cech w drzewie')\n",
    "plt.xlabel('Cecha')\n",
    "plt.ylabel('Ważność')\n",
    "plt.xticks(rotation=90)\n",
    "plt.tight_layout()\n",
    "plt.savefig('waznosc_drzewo.png', dpi=300, bbox_inches='tight')\n",
    "plt.show()"
   ]
  },
  {
   "cell_type": "markdown",
   "id": "e82932be",
   "metadata": {},
   "source": [
    "### Ocena jakości modelu"
   ]
  },
  {
   "cell_type": "markdown",
   "id": "03a1b881",
   "metadata": {},
   "source": [
    "#### Macierz pomyłek"
   ]
  },
  {
   "cell_type": "code",
   "execution_count": 76,
   "id": "76d49d63",
   "metadata": {},
   "outputs": [
    {
     "name": "stdout",
     "output_type": "stream",
     "text": [
      "Macierz pomylek:\n",
      "[[20185 10642]\n",
      " [ 6557 24331]]\n"
     ]
    }
   ],
   "source": [
    "macierz_pomylek_tree = confusion_matrix(dane_test_y, y_predykcja_test)\n",
    "\n",
    "print(\"Macierz pomylek:\")\n",
    "print(macierz_pomylek_tree)"
   ]
  },
  {
   "cell_type": "code",
   "execution_count": 77,
   "id": "3cd63d6d",
   "metadata": {
    "scrolled": false
   },
   "outputs": [
    {
     "data": {
      "image/png": "[encoded data removed]",
      "text/plain": [
       "<Figure size 576x432 with 2 Axes>"
      ]
     },
     "metadata": {
      "needs_background": "light"
     },
     "output_type": "display_data"
    }
   ],
   "source": [
    "labels = ['0', '1']  \n",
    "\n",
    "\n",
    "plt.figure(figsize=(8, 6))\n",
    "sns.heatmap(macierz_pomylek_tree, annot=True, fmt=\"d\", cmap=\"Blues\", xticklabels=labels, yticklabels=labels)\n",
    "plt.xlabel('Wartości przewidywane')\n",
    "plt.ylabel('Wartości rzeczywiste')\n",
    "plt.title('Macierz pomyłek')\n",
    "plt.savefig('macierz_pomylek_drzewo.png', dpi=300, bbox_inches='tight')\n",
    "plt.show()"
   ]
  },
  {
   "cell_type": "markdown",
   "id": "420fe386",
   "metadata": {},
   "source": [
    "#### Miary jakosci klasyfikatora"
   ]
  },
  {
   "cell_type": "code",
   "execution_count": 78,
   "id": "71e90918",
   "metadata": {},
   "outputs": [
    {
     "name": "stdout",
     "output_type": "stream",
     "text": [
      "Czułość: 0.7877\n",
      "Specyficzność: 0.6548\n",
      "Precyzja: 0.6957\n",
      "F1-score: 0.7389\n"
     ]
    }
   ],
   "source": [
    "TN = macierz_pomylek_tree[0, 0]\n",
    "FP = macierz_pomylek_tree[0, 1]\n",
    "FN = macierz_pomylek_tree[1, 0]\n",
    "TP = macierz_pomylek_tree[1, 1]\n",
    "\n",
    "czulosc = TP / (TP + FN)\n",
    "specyficznosc = TN / (TN + FP)\n",
    "precyzja = TP / (TP + FP)\n",
    "statystyka_f1 = 2 * (precyzja * czulosc) / (precyzja + czulosc)\n",
    "\n",
    "print(\"Czułość:\", round(czulosc,4))\n",
    "print(\"Specyficzność:\", round(specyficznosc,4))\n",
    "print(\"Precyzja:\", round(precyzja,4))\n",
    "print(\"F1-score:\", round(statystyka_f1, 4))"
   ]
  },
  {
   "cell_type": "markdown",
   "id": "a8ab81ac",
   "metadata": {},
   "source": [
    "#### Krzywa ROC"
   ]
  },
  {
   "cell_type": "code",
   "execution_count": 79,
   "id": "d0c738de",
   "metadata": {},
   "outputs": [
    {
     "data": {
      "text/plain": [
       "array([[0.3644756 , 0.6355244 ],\n",
       "       [0.3644756 , 0.6355244 ],\n",
       "       [0.3644756 , 0.6355244 ],\n",
       "       [0.29103101, 0.70896899],\n",
       "       [0.29103101, 0.70896899]])"
      ]
     },
     "execution_count": 79,
     "metadata": {},
     "output_type": "execute_result"
    }
   ],
   "source": [
    "y_pred_tree_proba = tree.predict_proba(dane_test_x)\n",
    "y_pred_tree_proba[0:5]"
   ]
  },
  {
   "cell_type": "code",
   "execution_count": 80,
   "id": "47b1b8e2",
   "metadata": {},
   "outputs": [],
   "source": [
    "fpr, tpr, prog_odciecia = roc_curve(dane_test_y, y_pred_tree_proba[:,1])"
   ]
  },
  {
   "cell_type": "code",
   "execution_count": 81,
   "id": "15786585",
   "metadata": {},
   "outputs": [
    {
     "name": "stdout",
     "output_type": "stream",
     "text": [
      "TPR: 0.00, FPR: 0.00, Próg odcięcia inf\n",
      "TPR: 0.02, FPR: 0.00, Próg odcięcia 1.00\n",
      "TPR: 0.07, FPR: 0.00, Próg odcięcia 1.00\n",
      "TPR: 0.08, FPR: 0.00, Próg odcięcia 0.98\n",
      "TPR: 0.08, FPR: 0.00, Próg odcięcia 0.90\n",
      "TPR: 0.08, FPR: 0.00, Próg odcięcia 0.89\n",
      "TPR: 0.08, FPR: 0.00, Próg odcięcia 0.86\n",
      "TPR: 0.09, FPR: 0.00, Próg odcięcia 0.83\n",
      "TPR: 0.09, FPR: 0.00, Próg odcięcia 0.82\n",
      "TPR: 0.11, FPR: 0.01, Próg odcięcia 0.80\n",
      "TPR: 0.38, FPR: 0.12, Próg odcięcia 0.71\n",
      "TPR: 0.39, FPR: 0.12, Próg odcięcia 0.69\n",
      "TPR: 0.39, FPR: 0.12, Próg odcięcia 0.67\n",
      "TPR: 0.42, FPR: 0.14, Próg odcięcia 0.67\n",
      "TPR: 0.43, FPR: 0.14, Próg odcięcia 0.66\n",
      "TPR: 0.43, FPR: 0.14, Próg odcięcia 0.64\n",
      "TPR: 0.79, FPR: 0.34, Próg odcięcia 0.64\n",
      "TPR: 0.79, FPR: 0.34, Próg odcięcia 0.56\n",
      "TPR: 0.79, FPR: 0.35, Próg odcięcia 0.56\n",
      "TPR: 0.79, FPR: 0.35, Próg odcięcia 0.50\n",
      "TPR: 0.82, FPR: 0.38, Próg odcięcia 0.49\n",
      "TPR: 0.83, FPR: 0.39, Próg odcięcia 0.45\n",
      "TPR: 0.83, FPR: 0.39, Próg odcięcia 0.44\n",
      "TPR: 0.84, FPR: 0.41, Próg odcięcia 0.44\n",
      "TPR: 0.84, FPR: 0.41, Próg odcięcia 0.38\n",
      "TPR: 0.85, FPR: 0.42, Próg odcięcia 0.31\n",
      "TPR: 0.86, FPR: 0.44, Próg odcięcia 0.29\n",
      "TPR: 0.89, FPR: 0.52, Próg odcięcia 0.28\n",
      "TPR: 0.89, FPR: 0.52, Próg odcięcia 0.27\n",
      "TPR: 0.89, FPR: 0.53, Próg odcięcia 0.26\n",
      "TPR: 0.89, FPR: 0.53, Próg odcięcia 0.26\n",
      "TPR: 0.90, FPR: 0.55, Próg odcięcia 0.24\n",
      "TPR: 0.90, FPR: 0.55, Próg odcięcia 0.23\n",
      "TPR: 0.91, FPR: 0.58, Próg odcięcia 0.23\n",
      "TPR: 0.92, FPR: 0.63, Próg odcięcia 0.21\n",
      "TPR: 0.98, FPR: 0.85, Próg odcięcia 0.20\n",
      "TPR: 0.98, FPR: 0.89, Próg odcięcia 0.18\n",
      "TPR: 0.99, FPR: 0.90, Próg odcięcia 0.16\n",
      "TPR: 0.99, FPR: 0.92, Próg odcięcia 0.16\n",
      "TPR: 0.99, FPR: 0.92, Próg odcięcia 0.12\n",
      "TPR: 1.00, FPR: 0.99, Próg odcięcia 0.10\n",
      "TPR: 1.00, FPR: 1.00, Próg odcięcia 0.04\n",
      "TPR: 1.00, FPR: 1.00, Próg odcięcia 0.02\n"
     ]
    }
   ],
   "source": [
    "for i, prog_odciecia in enumerate(prog_odciecia):\n",
    "    print(\"TPR: {:.2f}, FPR: {:.2f}, Próg odcięcia {:.2f}\".format(tpr[i], fpr[i], prog_odciecia))"
   ]
  },
  {
   "cell_type": "code",
   "execution_count": 82,
   "id": "3280bd34",
   "metadata": {},
   "outputs": [
    {
     "name": "stdout",
     "output_type": "stream",
     "text": [
      "Pole pod krzywa ROC: 0.77\n"
     ]
    }
   ],
   "source": [
    "auc_tree = roc_auc_score(dane_test_y, y_pred_tree_proba[:,1])\n",
    "print(\"Pole pod krzywa ROC: {:.2f}\".format(auc_tree))"
   ]
  },
  {
   "cell_type": "code",
   "execution_count": 83,
   "id": "d00102f5",
   "metadata": {
    "scrolled": true
   },
   "outputs": [
    {
     "data": {
      "image/png": "[encoded data removed]",
      "text/plain": [
       "<Figure size 432x288 with 1 Axes>"
      ]
     },
     "metadata": {
      "needs_background": "light"
     },
     "output_type": "display_data"
    }
   ],
   "source": [
    "plt.plot(fpr, tpr, label = \"Krzywa ROC\")\n",
    "plt.plot([0,1], [0,1], linestyle = \"--\", label = \"Klasyfikator losowy\", color = \"orange\")\n",
    "plt.xlabel(\"1-Specyficzność\")\n",
    "plt.ylabel(\"Czułość\")\n",
    "plt.legend()\n",
    "plt.savefig('roc_drzewo.png', dpi=300, bbox_inches='tight')\n",
    "plt.show()"
   ]
  },
  {
   "cell_type": "markdown",
   "id": "5678a996",
   "metadata": {},
   "source": [
    "## Las losowy"
   ]
  },
  {
   "cell_type": "markdown",
   "id": "2601e3ed",
   "metadata": {},
   "source": [
    "### Budowa modelu"
   ]
  },
  {
   "cell_type": "code",
   "execution_count": 84,
   "id": "7cb267c9",
   "metadata": {},
   "outputs": [
    {
     "data": {
      "text/html": [
       "<style>#sk-container-id-2 {color: black;}#sk-container-id-2 pre{padding: 0;}#sk-container-id-2 div.sk-toggleable {background-color: white;}#sk-container-id-2 label.sk-toggleable__label {cursor: pointer;display: block;width: 100%;margin-bottom: 0;padding: 0.3em;box-sizing: border-box;text-align: center;}#sk-container-id-2 label.sk-toggleable__label-arrow:before {content: \"▸\";float: left;margin-right: 0.25em;color: #696969;}#sk-container-id-2 label.sk-toggleable__label-arrow:hover:before {color: black;}#sk-container-id-2 div.sk-estimator:hover label.sk-toggleable__label-arrow:before {color: black;}#sk-container-id-2 div.sk-toggleable__content {max-height: 0;max-width: 0;overflow: hidden;text-align: left;background-color: #f0f8ff;}#sk-container-id-2 div.sk-toggleable__content pre {margin: 0.2em;color: black;border-radius: 0.25em;background-color: #f0f8ff;}#sk-container-id-2 input.sk-toggleable__control:checked~div.sk-toggleable__content {max-height: 200px;max-width: 100%;overflow: auto;}#sk-container-id-2 input.sk-toggleable__control:checked~label.sk-toggleable__label-arrow:before {content: \"▾\";}#sk-container-id-2 div.sk-estimator input.sk-toggleable__control:checked~label.sk-toggleable__label {background-color: #d4ebff;}#sk-container-id-2 div.sk-label input.sk-toggleable__control:checked~label.sk-toggleable__label {background-color: #d4ebff;}#sk-container-id-2 input.sk-hidden--visually {border: 0;clip: rect(1px 1px 1px 1px);clip: rect(1px, 1px, 1px, 1px);height: 1px;margin: -1px;overflow: hidden;padding: 0;position: absolute;width: 1px;}#sk-container-id-2 div.sk-estimator {font-family: monospace;background-color: #f0f8ff;border: 1px dotted black;border-radius: 0.25em;box-sizing: border-box;margin-bottom: 0.5em;}#sk-container-id-2 div.sk-estimator:hover {background-color: #d4ebff;}#sk-container-id-2 div.sk-parallel-item::after {content: \"\";width: 100%;border-bottom: 1px solid gray;flex-grow: 1;}#sk-container-id-2 div.sk-label:hover label.sk-toggleable__label {background-color: #d4ebff;}#sk-container-id-2 div.sk-serial::before {content: \"\";position: absolute;border-left: 1px solid gray;box-sizing: border-box;top: 0;bottom: 0;left: 50%;z-index: 0;}#sk-container-id-2 div.sk-serial {display: flex;flex-direction: column;align-items: center;background-color: white;padding-right: 0.2em;padding-left: 0.2em;position: relative;}#sk-container-id-2 div.sk-item {position: relative;z-index: 1;}#sk-container-id-2 div.sk-parallel {display: flex;align-items: stretch;justify-content: center;background-color: white;position: relative;}#sk-container-id-2 div.sk-item::before, #sk-container-id-2 div.sk-parallel-item::before {content: \"\";position: absolute;border-left: 1px solid gray;box-sizing: border-box;top: 0;bottom: 0;left: 50%;z-index: -1;}#sk-container-id-2 div.sk-parallel-item {display: flex;flex-direction: column;z-index: 1;position: relative;background-color: white;}#sk-container-id-2 div.sk-parallel-item:first-child::after {align-self: flex-end;width: 50%;}#sk-container-id-2 div.sk-parallel-item:last-child::after {align-self: flex-start;width: 50%;}#sk-container-id-2 div.sk-parallel-item:only-child::after {width: 0;}#sk-container-id-2 div.sk-dashed-wrapped {border: 1px dashed gray;margin: 0 0.4em 0.5em 0.4em;box-sizing: border-box;padding-bottom: 0.4em;background-color: white;}#sk-container-id-2 div.sk-label label {font-family: monospace;font-weight: bold;display: inline-block;line-height: 1.2em;}#sk-container-id-2 div.sk-label-container {text-align: center;}#sk-container-id-2 div.sk-container {/* jupyter's `normalize.less` sets `[hidden] { display: none; }` but bootstrap.min.css set `[hidden] { display: none !important; }` so we also need the `!important` here to be able to override the default hidden behavior on the sphinx rendered scikit-learn.org. See: https://github.com/scikit-learn/scikit-learn/issues/21755 */display: inline-block !important;position: relative;}#sk-container-id-2 div.sk-text-repr-fallback {display: none;}</style><div id=\"sk-container-id-2\" class=\"sk-top-container\"><div class=\"sk-text-repr-fallback\"><pre>RandomForestClassifier(random_state=1)</pre><b>In a Jupyter environment, please rerun this cell to show the HTML representation or trust the notebook. <br />On GitHub, the HTML representation is unable to render, please try loading this page with nbviewer.org.</b></div><div class=\"sk-container\" hidden><div class=\"sk-item\"><div class=\"sk-estimator sk-toggleable\"><input class=\"sk-toggleable__control sk-hidden--visually\" id=\"sk-estimator-id-2\" type=\"checkbox\" checked><label for=\"sk-estimator-id-2\" class=\"sk-toggleable__label sk-toggleable__label-arrow\">RandomForestClassifier</label><div class=\"sk-toggleable__content\"><pre>RandomForestClassifier(random_state=1)</pre></div></div></div></div></div>"
      ],
      "text/plain": [
       "RandomForestClassifier(random_state=1)"
      ]
     },
     "execution_count": 84,
     "metadata": {},
     "output_type": "execute_result"
    }
   ],
   "source": [
    "Forest = RandomForestClassifier(n_estimators=100, random_state = 1)\n",
    "Forest.fit(dane_train_x, dane_train_y)"
   ]
  },
  {
   "cell_type": "code",
   "execution_count": 85,
   "id": "5d083690",
   "metadata": {},
   "outputs": [
    {
     "name": "stdout",
     "output_type": "stream",
     "text": [
      "Dokładność klasyfikacji na danych uczących:  0.756\n"
     ]
    }
   ],
   "source": [
    "y_predykcja_train_forest = Forest.predict(dane_train_x)\n",
    "\n",
    "dokladnosc_train_forest = accuracy_score(dane_train_y, y_predykcja_train_forest)\n",
    "print(\"Dokładność klasyfikacji na danych uczących: \", round(dokladnosc_train_forest,4))"
   ]
  },
  {
   "cell_type": "code",
   "execution_count": 86,
   "id": "6f9d78fd",
   "metadata": {},
   "outputs": [
    {
     "name": "stdout",
     "output_type": "stream",
     "text": [
      "Dokładność predykcji lasu na danych testowych:  0.7519\n"
     ]
    }
   ],
   "source": [
    "y_predykcja_test_forest = Forest.predict(dane_test_x)\n",
    "dokladnosc_test_forest = accuracy_score(dane_test_y, y_predykcja_test_forest)\n",
    "print(\"Dokładność predykcji lasu na danych testowych: \", round(dokladnosc_test_forest,4))"
   ]
  },
  {
   "cell_type": "markdown",
   "id": "bfbc84eb",
   "metadata": {},
   "source": [
    "### Walidacja krzyżowa"
   ]
  },
  {
   "cell_type": "code",
   "execution_count": 87,
   "id": "9d457a8d",
   "metadata": {
    "scrolled": true
   },
   "outputs": [
    {
     "name": "stdout",
     "output_type": "stream",
     "text": [
      "Dokładność predykcji:  [0.75471305 0.759375   0.7509375  0.750625   0.74458333 0.75260417\n",
      " 0.75125    0.73979167 0.75145833 0.74302083 0.7540625  0.75364583\n",
      " 0.75385417 0.7496875  0.7496875 ]\n",
      "Średnia dokładność:  0.7506\n"
     ]
    }
   ],
   "source": [
    "scores_forest = cross_val_score(Forest, dane_train_x, dane_train_y, cv = 15)\n",
    "\n",
    "print(\"Dokładność predykcji: \", scores_forest)\n",
    "print(\"Średnia dokładność: \", round(scores_forest.mean(),4))"
   ]
  },
  {
   "cell_type": "markdown",
   "id": "ca3327c8",
   "metadata": {},
   "source": [
    "#### Macierz pomyłek"
   ]
  },
  {
   "cell_type": "code",
   "execution_count": 88,
   "id": "6fe337c4",
   "metadata": {},
   "outputs": [
    {
     "name": "stdout",
     "output_type": "stream",
     "text": [
      "Macierz pomyłek:\n",
      "[[22468  8359]\n",
      " [ 6950 23938]]\n"
     ]
    }
   ],
   "source": [
    "macierz_pomylek_forest = confusion_matrix(dane_test_y, y_predykcja_test_forest)\n",
    "\n",
    "print(\"Macierz pomyłek:\")\n",
    "print(macierz_pomylek_forest)"
   ]
  },
  {
   "cell_type": "code",
   "execution_count": 89,
   "id": "372b0b23",
   "metadata": {},
   "outputs": [
    {
     "data": {
      "image/png": "[encoded data removed]",
      "text/plain": [
       "<Figure size 576x432 with 2 Axes>"
      ]
     },
     "metadata": {
      "needs_background": "light"
     },
     "output_type": "display_data"
    }
   ],
   "source": [
    "labels = ['0', '1']  \n",
    "\n",
    "\n",
    "plt.figure(figsize=(8, 6))\n",
    "sns.heatmap(macierz_pomylek_forest, annot=True, fmt=\"d\", cmap=\"Greens\", xticklabels=labels, yticklabels=labels)\n",
    "plt.xlabel('Wartości przewidywane')\n",
    "plt.ylabel('Wartości rzeczywiste')\n",
    "plt.title('Macierz pomyłek')\n",
    "plt.savefig('macierz_pomylek_las.png', dpi=300, bbox_inches='tight')\n",
    "plt.show()"
   ]
  },
  {
   "cell_type": "markdown",
   "id": "f2988abc",
   "metadata": {},
   "source": [
    "#### Miary jakości klasyfikatora"
   ]
  },
  {
   "cell_type": "code",
   "execution_count": 90,
   "id": "2d0c3f76",
   "metadata": {},
   "outputs": [
    {
     "name": "stdout",
     "output_type": "stream",
     "text": [
      "Czułość: 0.775\n",
      "Specyficzność: 0.7288\n",
      "Precyzja: 0.7412\n",
      "F1-score: 0.7577\n"
     ]
    }
   ],
   "source": [
    "TN = macierz_pomylek_forest[0, 0]\n",
    "FP = macierz_pomylek_forest[0, 1]\n",
    "FN = macierz_pomylek_forest[1, 0]\n",
    "TP = macierz_pomylek_forest[1, 1]\n",
    "\n",
    "czulosc = TP / (TP + FN)\n",
    "specyficznosc = TN / (TN + FP)\n",
    "precyzja = TP / (TP + FP)\n",
    "statystyka_f1 = 2 * (precyzja * czulosc) / (precyzja + czulosc)\n",
    "\n",
    "print(\"Czułość:\", round(czulosc,4))\n",
    "print(\"Specyficzność:\", round(specyficznosc,4))\n",
    "print(\"Precyzja:\", round(precyzja,4))\n",
    "print(\"F1-score:\", round(statystyka_f1, 4))"
   ]
  },
  {
   "cell_type": "markdown",
   "id": "987b6249",
   "metadata": {},
   "source": [
    "#### Krzywa ROC"
   ]
  },
  {
   "cell_type": "code",
   "execution_count": 91,
   "id": "67c37ca7",
   "metadata": {},
   "outputs": [],
   "source": [
    "y_pred_prob = Forest.predict_proba(dane_test_x)[:,1]"
   ]
  },
  {
   "cell_type": "code",
   "execution_count": 92,
   "id": "5816ac43",
   "metadata": {},
   "outputs": [],
   "source": [
    "fpr, tpr, prog_odciecia = roc_curve(dane_test_y, y_pred_prob)"
   ]
  },
  {
   "cell_type": "code",
   "execution_count": 93,
   "id": "14b89bb1",
   "metadata": {},
   "outputs": [
    {
     "data": {
      "image/png": "[encoded data removed]",
      "text/plain": [
       "<Figure size 432x288 with 1 Axes>"
      ]
     },
     "metadata": {
      "needs_background": "light"
     },
     "output_type": "display_data"
    }
   ],
   "source": [
    "plt.plot(fpr, tpr, label = \"Krzywa ROC\", color = \"green\")\n",
    "plt.plot([0,1], [0,1], linestyle = \"--\", label = \"Klasyfikator losowy\", color = \"orange\")\n",
    "plt.xlabel(\"1-Specyficzność\")\n",
    "plt.ylabel(\"Czułość\")\n",
    "plt.legend()\n",
    "plt.savefig('roc_las.png', dpi=300, bbox_inches='tight')\n",
    "plt.show()"
   ]
  },
  {
   "cell_type": "code",
   "execution_count": 94,
   "id": "e3a0936a",
   "metadata": {},
   "outputs": [
    {
     "name": "stdout",
     "output_type": "stream",
     "text": [
      "Pole pod krzywą ROC wynosi:  0.8228\n"
     ]
    }
   ],
   "source": [
    "auc_forest = roc_auc_score(dane_test_y, y_pred_prob)\n",
    "\n",
    "print(\"Pole pod krzywą ROC wynosi: \", round(auc_forest, 4))"
   ]
  },
  {
   "cell_type": "markdown",
   "id": "e318cdd3",
   "metadata": {},
   "source": [
    "#### Istotność cech"
   ]
  },
  {
   "cell_type": "code",
   "execution_count": 95,
   "id": "17c54e91",
   "metadata": {},
   "outputs": [
    {
     "name": "stdout",
     "output_type": "stream",
     "text": [
      "                                    Cecha  Ważność\n",
      "2                              group_name   0.1604\n",
      "12                   attack_Assassination   0.1479\n",
      "19                         targtype_Other   0.1301\n",
      "0                                extended   0.0727\n",
      "13               attack_Bombing/Explosion   0.0661\n",
      "11                   attack_Armed Assault   0.0535\n",
      "14  attack_Facility/Infrastructure Attack   0.0431\n",
      "21   targtype_Private Citizens & Property   0.0431\n",
      "15     attack_Hostage Taking (Kidnapping)   0.0369\n",
      "1                                multiple   0.0346\n",
      "10                  region_Western Europe   0.0316\n",
      "16               attack_Other attack type   0.0265\n",
      "4       region_Middle East & North Africa   0.0263\n",
      "17                   targtype_Authorities   0.0233\n",
      "20             targtype_Police & Military   0.0221\n",
      "9               region_Sub-Saharan Africa   0.0166\n",
      "18                      targtype_Business   0.0164\n",
      "7                       region_South Asia   0.0158\n",
      "8                   region_Southeast Asia   0.0113\n",
      "5                     region_Other region   0.0082\n",
      "6                    region_South America   0.0079\n",
      "3                   region_Eastern Europe   0.0055\n"
     ]
    }
   ],
   "source": [
    "waznosc_las = Forest.feature_importances_\n",
    "cechy_las = dane_train_x.columns\n",
    "\n",
    "\n",
    "waznosc_df_las = pd.DataFrame({'Cecha': cechy_las, 'Ważność': waznosc_las})\n",
    "waznosc_df_las = waznosc_df_las.sort_values(by='Ważność', ascending=False)\n",
    "waznosc_df_las['Ważność'] = round(waznosc_df_las['Ważność'], 4)\n",
    "\n",
    "print(waznosc_df_las)"
   ]
  },
  {
   "cell_type": "code",
   "execution_count": 96,
   "id": "4f2db627",
   "metadata": {
    "scrolled": false
   },
   "outputs": [
    {
     "data": {
      "image/png": "[encoded data removed]",
      "text/plain": [
       "<Figure size 720x432 with 1 Axes>"
      ]
     },
     "metadata": {
      "needs_background": "light"
     },
     "output_type": "display_data"
    }
   ],
   "source": [
    "plt.figure(figsize=(10, 6))\n",
    "plt.bar(waznosc_df_las['Cecha'], waznosc_df_las['Ważność'], color='forestgreen')\n",
    "\n",
    "\n",
    "plt.title('Ważność cech w lesie')\n",
    "plt.xlabel('Cecha')\n",
    "plt.ylabel('Ważność')\n",
    "plt.xticks(rotation=90)\n",
    "plt.tight_layout()\n",
    "plt.savefig('waznosc_las.png', dpi=300, bbox_inches='tight')\n",
    "plt.show()"
   ]
  },
  {
   "cell_type": "markdown",
   "id": "e3408ebf",
   "metadata": {},
   "source": [
    "## XGBoost"
   ]
  },
  {
   "cell_type": "markdown",
   "id": "090ea9b2",
   "metadata": {},
   "source": [
    "### Budowa modelu"
   ]
  },
  {
   "cell_type": "code",
   "execution_count": 97,
   "id": "54bcb3c4",
   "metadata": {},
   "outputs": [],
   "source": [
    "xgb_model = xgb.XGBClassifier(objective = \"binary:logistic\", random_state = 42)"
   ]
  },
  {
   "cell_type": "code",
   "execution_count": 98,
   "id": "0ff9a0cc",
   "metadata": {},
   "outputs": [
    {
     "data": {
      "text/html": [
       "<style>#sk-container-id-3 {color: black;}#sk-container-id-3 pre{padding: 0;}#sk-container-id-3 div.sk-toggleable {background-color: white;}#sk-container-id-3 label.sk-toggleable__label {cursor: pointer;display: block;width: 100%;margin-bottom: 0;padding: 0.3em;box-sizing: border-box;text-align: center;}#sk-container-id-3 label.sk-toggleable__label-arrow:before {content: \"▸\";float: left;margin-right: 0.25em;color: #696969;}#sk-container-id-3 label.sk-toggleable__label-arrow:hover:before {color: black;}#sk-container-id-3 div.sk-estimator:hover label.sk-toggleable__label-arrow:before {color: black;}#sk-container-id-3 div.sk-toggleable__content {max-height: 0;max-width: 0;overflow: hidden;text-align: left;background-color: #f0f8ff;}#sk-container-id-3 div.sk-toggleable__content pre {margin: 0.2em;color: black;border-radius: 0.25em;background-color: #f0f8ff;}#sk-container-id-3 input.sk-toggleable__control:checked~div.sk-toggleable__content {max-height: 200px;max-width: 100%;overflow: auto;}#sk-container-id-3 input.sk-toggleable__control:checked~label.sk-toggleable__label-arrow:before {content: \"▾\";}#sk-container-id-3 div.sk-estimator input.sk-toggleable__control:checked~label.sk-toggleable__label {background-color: #d4ebff;}#sk-container-id-3 div.sk-label input.sk-toggleable__control:checked~label.sk-toggleable__label {background-color: #d4ebff;}#sk-container-id-3 input.sk-hidden--visually {border: 0;clip: rect(1px 1px 1px 1px);clip: rect(1px, 1px, 1px, 1px);height: 1px;margin: -1px;overflow: hidden;padding: 0;position: absolute;width: 1px;}#sk-container-id-3 div.sk-estimator {font-family: monospace;background-color: #f0f8ff;border: 1px dotted black;border-radius: 0.25em;box-sizing: border-box;margin-bottom: 0.5em;}#sk-container-id-3 div.sk-estimator:hover {background-color: #d4ebff;}#sk-container-id-3 div.sk-parallel-item::after {content: \"\";width: 100%;border-bottom: 1px solid gray;flex-grow: 1;}#sk-container-id-3 div.sk-label:hover label.sk-toggleable__label {background-color: #d4ebff;}#sk-container-id-3 div.sk-serial::before {content: \"\";position: absolute;border-left: 1px solid gray;box-sizing: border-box;top: 0;bottom: 0;left: 50%;z-index: 0;}#sk-container-id-3 div.sk-serial {display: flex;flex-direction: column;align-items: center;background-color: white;padding-right: 0.2em;padding-left: 0.2em;position: relative;}#sk-container-id-3 div.sk-item {position: relative;z-index: 1;}#sk-container-id-3 div.sk-parallel {display: flex;align-items: stretch;justify-content: center;background-color: white;position: relative;}#sk-container-id-3 div.sk-item::before, #sk-container-id-3 div.sk-parallel-item::before {content: \"\";position: absolute;border-left: 1px solid gray;box-sizing: border-box;top: 0;bottom: 0;left: 50%;z-index: -1;}#sk-container-id-3 div.sk-parallel-item {display: flex;flex-direction: column;z-index: 1;position: relative;background-color: white;}#sk-container-id-3 div.sk-parallel-item:first-child::after {align-self: flex-end;width: 50%;}#sk-container-id-3 div.sk-parallel-item:last-child::after {align-self: flex-start;width: 50%;}#sk-container-id-3 div.sk-parallel-item:only-child::after {width: 0;}#sk-container-id-3 div.sk-dashed-wrapped {border: 1px dashed gray;margin: 0 0.4em 0.5em 0.4em;box-sizing: border-box;padding-bottom: 0.4em;background-color: white;}#sk-container-id-3 div.sk-label label {font-family: monospace;font-weight: bold;display: inline-block;line-height: 1.2em;}#sk-container-id-3 div.sk-label-container {text-align: center;}#sk-container-id-3 div.sk-container {/* jupyter's `normalize.less` sets `[hidden] { display: none; }` but bootstrap.min.css set `[hidden] { display: none !important; }` so we also need the `!important` here to be able to override the default hidden behavior on the sphinx rendered scikit-learn.org. See: https://github.com/scikit-learn/scikit-learn/issues/21755 */display: inline-block !important;position: relative;}#sk-container-id-3 div.sk-text-repr-fallback {display: none;}</style><div id=\"sk-container-id-3\" class=\"sk-top-container\"><div class=\"sk-text-repr-fallback\"><pre>XGBClassifier(base_score=None, booster=None, callbacks=None,\n",
       "              colsample_bylevel=None, colsample_bynode=None,\n",
       "              colsample_bytree=None, device=None, early_stopping_rounds=None,\n",
       "              enable_categorical=False, eval_metric=None, feature_types=None,\n",
       "              gamma=None, grow_policy=None, importance_type=None,\n",
       "              interaction_constraints=None, learning_rate=None, max_bin=None,\n",
       "              max_cat_threshold=None, max_cat_to_onehot=None,\n",
       "              max_delta_step=None, max_depth=None, max_leaves=None,\n",
       "              min_child_weight=None, missing=nan, monotone_constraints=None,\n",
       "              multi_strategy=None, n_estimators=None, n_jobs=None,\n",
       "              num_parallel_tree=None, random_state=42, ...)</pre><b>In a Jupyter environment, please rerun this cell to show the HTML representation or trust the notebook. <br />On GitHub, the HTML representation is unable to render, please try loading this page with nbviewer.org.</b></div><div class=\"sk-container\" hidden><div class=\"sk-item\"><div class=\"sk-estimator sk-toggleable\"><input class=\"sk-toggleable__control sk-hidden--visually\" id=\"sk-estimator-id-3\" type=\"checkbox\" checked><label for=\"sk-estimator-id-3\" class=\"sk-toggleable__label sk-toggleable__label-arrow\">XGBClassifier</label><div class=\"sk-toggleable__content\"><pre>XGBClassifier(base_score=None, booster=None, callbacks=None,\n",
       "              colsample_bylevel=None, colsample_bynode=None,\n",
       "              colsample_bytree=None, device=None, early_stopping_rounds=None,\n",
       "              enable_categorical=False, eval_metric=None, feature_types=None,\n",
       "              gamma=None, grow_policy=None, importance_type=None,\n",
       "              interaction_constraints=None, learning_rate=None, max_bin=None,\n",
       "              max_cat_threshold=None, max_cat_to_onehot=None,\n",
       "              max_delta_step=None, max_depth=None, max_leaves=None,\n",
       "              min_child_weight=None, missing=nan, monotone_constraints=None,\n",
       "              multi_strategy=None, n_estimators=None, n_jobs=None,\n",
       "              num_parallel_tree=None, random_state=42, ...)</pre></div></div></div></div></div>"
      ],
      "text/plain": [
       "XGBClassifier(base_score=None, booster=None, callbacks=None,\n",
       "              colsample_bylevel=None, colsample_bynode=None,\n",
       "              colsample_bytree=None, device=None, early_stopping_rounds=None,\n",
       "              enable_categorical=False, eval_metric=None, feature_types=None,\n",
       "              gamma=None, grow_policy=None, importance_type=None,\n",
       "              interaction_constraints=None, learning_rate=None, max_bin=None,\n",
       "              max_cat_threshold=None, max_cat_to_onehot=None,\n",
       "              max_delta_step=None, max_depth=None, max_leaves=None,\n",
       "              min_child_weight=None, missing=nan, monotone_constraints=None,\n",
       "              multi_strategy=None, n_estimators=None, n_jobs=None,\n",
       "              num_parallel_tree=None, random_state=42, ...)"
      ]
     },
     "execution_count": 98,
     "metadata": {},
     "output_type": "execute_result"
    }
   ],
   "source": [
    "xgb_model.fit(dane_train_x, dane_train_y)"
   ]
  },
  {
   "cell_type": "code",
   "execution_count": 99,
   "id": "50312707",
   "metadata": {},
   "outputs": [],
   "source": [
    "y_predykcja_test_xgb = xgb_model.predict(dane_test_x)"
   ]
  },
  {
   "cell_type": "code",
   "execution_count": 100,
   "id": "0c88c572",
   "metadata": {
    "scrolled": true
   },
   "outputs": [
    {
     "name": "stdout",
     "output_type": "stream",
     "text": [
      "Dokładność predykcji: 75.02%\n"
     ]
    }
   ],
   "source": [
    "dokladnosc_xgb = accuracy_score(dane_test_y, y_predykcja_test_xgb)\n",
    "print (\"Dokładność predykcji: %.2f%%\" % (dokladnosc_xgb*100.0))"
   ]
  },
  {
   "cell_type": "markdown",
   "id": "fb018274",
   "metadata": {},
   "source": [
    "#### Model z 10 drzewami"
   ]
  },
  {
   "cell_type": "code",
   "execution_count": 101,
   "id": "bf4fc905",
   "metadata": {},
   "outputs": [],
   "source": [
    "xgb_model_10 = xgb.XGBClassifier(objective = \"binary:logistic\", random_state = 42, n_estimators = 10)"
   ]
  },
  {
   "cell_type": "code",
   "execution_count": 102,
   "id": "94f213a3",
   "metadata": {},
   "outputs": [
    {
     "data": {
      "text/html": [
       "<style>#sk-container-id-4 {color: black;}#sk-container-id-4 pre{padding: 0;}#sk-container-id-4 div.sk-toggleable {background-color: white;}#sk-container-id-4 label.sk-toggleable__label {cursor: pointer;display: block;width: 100%;margin-bottom: 0;padding: 0.3em;box-sizing: border-box;text-align: center;}#sk-container-id-4 label.sk-toggleable__label-arrow:before {content: \"▸\";float: left;margin-right: 0.25em;color: #696969;}#sk-container-id-4 label.sk-toggleable__label-arrow:hover:before {color: black;}#sk-container-id-4 div.sk-estimator:hover label.sk-toggleable__label-arrow:before {color: black;}#sk-container-id-4 div.sk-toggleable__content {max-height: 0;max-width: 0;overflow: hidden;text-align: left;background-color: #f0f8ff;}#sk-container-id-4 div.sk-toggleable__content pre {margin: 0.2em;color: black;border-radius: 0.25em;background-color: #f0f8ff;}#sk-container-id-4 input.sk-toggleable__control:checked~div.sk-toggleable__content {max-height: 200px;max-width: 100%;overflow: auto;}#sk-container-id-4 input.sk-toggleable__control:checked~label.sk-toggleable__label-arrow:before {content: \"▾\";}#sk-container-id-4 div.sk-estimator input.sk-toggleable__control:checked~label.sk-toggleable__label {background-color: #d4ebff;}#sk-container-id-4 div.sk-label input.sk-toggleable__control:checked~label.sk-toggleable__label {background-color: #d4ebff;}#sk-container-id-4 input.sk-hidden--visually {border: 0;clip: rect(1px 1px 1px 1px);clip: rect(1px, 1px, 1px, 1px);height: 1px;margin: -1px;overflow: hidden;padding: 0;position: absolute;width: 1px;}#sk-container-id-4 div.sk-estimator {font-family: monospace;background-color: #f0f8ff;border: 1px dotted black;border-radius: 0.25em;box-sizing: border-box;margin-bottom: 0.5em;}#sk-container-id-4 div.sk-estimator:hover {background-color: #d4ebff;}#sk-container-id-4 div.sk-parallel-item::after {content: \"\";width: 100%;border-bottom: 1px solid gray;flex-grow: 1;}#sk-container-id-4 div.sk-label:hover label.sk-toggleable__label {background-color: #d4ebff;}#sk-container-id-4 div.sk-serial::before {content: \"\";position: absolute;border-left: 1px solid gray;box-sizing: border-box;top: 0;bottom: 0;left: 50%;z-index: 0;}#sk-container-id-4 div.sk-serial {display: flex;flex-direction: column;align-items: center;background-color: white;padding-right: 0.2em;padding-left: 0.2em;position: relative;}#sk-container-id-4 div.sk-item {position: relative;z-index: 1;}#sk-container-id-4 div.sk-parallel {display: flex;align-items: stretch;justify-content: center;background-color: white;position: relative;}#sk-container-id-4 div.sk-item::before, #sk-container-id-4 div.sk-parallel-item::before {content: \"\";position: absolute;border-left: 1px solid gray;box-sizing: border-box;top: 0;bottom: 0;left: 50%;z-index: -1;}#sk-container-id-4 div.sk-parallel-item {display: flex;flex-direction: column;z-index: 1;position: relative;background-color: white;}#sk-container-id-4 div.sk-parallel-item:first-child::after {align-self: flex-end;width: 50%;}#sk-container-id-4 div.sk-parallel-item:last-child::after {align-self: flex-start;width: 50%;}#sk-container-id-4 div.sk-parallel-item:only-child::after {width: 0;}#sk-container-id-4 div.sk-dashed-wrapped {border: 1px dashed gray;margin: 0 0.4em 0.5em 0.4em;box-sizing: border-box;padding-bottom: 0.4em;background-color: white;}#sk-container-id-4 div.sk-label label {font-family: monospace;font-weight: bold;display: inline-block;line-height: 1.2em;}#sk-container-id-4 div.sk-label-container {text-align: center;}#sk-container-id-4 div.sk-container {/* jupyter's `normalize.less` sets `[hidden] { display: none; }` but bootstrap.min.css set `[hidden] { display: none !important; }` so we also need the `!important` here to be able to override the default hidden behavior on the sphinx rendered scikit-learn.org. See: https://github.com/scikit-learn/scikit-learn/issues/21755 */display: inline-block !important;position: relative;}#sk-container-id-4 div.sk-text-repr-fallback {display: none;}</style><div id=\"sk-container-id-4\" class=\"sk-top-container\"><div class=\"sk-text-repr-fallback\"><pre>XGBClassifier(base_score=None, booster=None, callbacks=None,\n",
       "              colsample_bylevel=None, colsample_bynode=None,\n",
       "              colsample_bytree=None, device=None, early_stopping_rounds=None,\n",
       "              enable_categorical=False, eval_metric=None, feature_types=None,\n",
       "              gamma=None, grow_policy=None, importance_type=None,\n",
       "              interaction_constraints=None, learning_rate=None, max_bin=None,\n",
       "              max_cat_threshold=None, max_cat_to_onehot=None,\n",
       "              max_delta_step=None, max_depth=None, max_leaves=None,\n",
       "              min_child_weight=None, missing=nan, monotone_constraints=None,\n",
       "              multi_strategy=None, n_estimators=10, n_jobs=None,\n",
       "              num_parallel_tree=None, random_state=42, ...)</pre><b>In a Jupyter environment, please rerun this cell to show the HTML representation or trust the notebook. <br />On GitHub, the HTML representation is unable to render, please try loading this page with nbviewer.org.</b></div><div class=\"sk-container\" hidden><div class=\"sk-item\"><div class=\"sk-estimator sk-toggleable\"><input class=\"sk-toggleable__control sk-hidden--visually\" id=\"sk-estimator-id-4\" type=\"checkbox\" checked><label for=\"sk-estimator-id-4\" class=\"sk-toggleable__label sk-toggleable__label-arrow\">XGBClassifier</label><div class=\"sk-toggleable__content\"><pre>XGBClassifier(base_score=None, booster=None, callbacks=None,\n",
       "              colsample_bylevel=None, colsample_bynode=None,\n",
       "              colsample_bytree=None, device=None, early_stopping_rounds=None,\n",
       "              enable_categorical=False, eval_metric=None, feature_types=None,\n",
       "              gamma=None, grow_policy=None, importance_type=None,\n",
       "              interaction_constraints=None, learning_rate=None, max_bin=None,\n",
       "              max_cat_threshold=None, max_cat_to_onehot=None,\n",
       "              max_delta_step=None, max_depth=None, max_leaves=None,\n",
       "              min_child_weight=None, missing=nan, monotone_constraints=None,\n",
       "              multi_strategy=None, n_estimators=10, n_jobs=None,\n",
       "              num_parallel_tree=None, random_state=42, ...)</pre></div></div></div></div></div>"
      ],
      "text/plain": [
       "XGBClassifier(base_score=None, booster=None, callbacks=None,\n",
       "              colsample_bylevel=None, colsample_bynode=None,\n",
       "              colsample_bytree=None, device=None, early_stopping_rounds=None,\n",
       "              enable_categorical=False, eval_metric=None, feature_types=None,\n",
       "              gamma=None, grow_policy=None, importance_type=None,\n",
       "              interaction_constraints=None, learning_rate=None, max_bin=None,\n",
       "              max_cat_threshold=None, max_cat_to_onehot=None,\n",
       "              max_delta_step=None, max_depth=None, max_leaves=None,\n",
       "              min_child_weight=None, missing=nan, monotone_constraints=None,\n",
       "              multi_strategy=None, n_estimators=10, n_jobs=None,\n",
       "              num_parallel_tree=None, random_state=42, ...)"
      ]
     },
     "execution_count": 102,
     "metadata": {},
     "output_type": "execute_result"
    }
   ],
   "source": [
    "xgb_model_10.fit(dane_train_x, dane_train_y)"
   ]
  },
  {
   "cell_type": "code",
   "execution_count": 103,
   "id": "23c4df1b",
   "metadata": {},
   "outputs": [],
   "source": [
    "y_predykcja_test_xgb_10 = xgb_model_10.predict(dane_test_x)"
   ]
  },
  {
   "cell_type": "code",
   "execution_count": 104,
   "id": "3bf3e026",
   "metadata": {},
   "outputs": [
    {
     "name": "stdout",
     "output_type": "stream",
     "text": [
      "Dokładność predykcji: 72.81%\n"
     ]
    }
   ],
   "source": [
    "dokladnosc_xgb_10 = accuracy_score(dane_test_y, y_predykcja_test_xgb_10)\n",
    "print(\"Dokładność predykcji: %.2f%%\" % (dokladnosc_xgb_10 * 100.0))"
   ]
  },
  {
   "cell_type": "markdown",
   "id": "53ac490f",
   "metadata": {},
   "source": [
    "### Poszukiwanie optymalnych wartosci hiperparametrow reg_alpha i reg_lambda dla defaultowych ustawień:\n",
    "### n_estimators = 100)"
   ]
  },
  {
   "cell_type": "code",
   "execution_count": 105,
   "id": "56f5aa83",
   "metadata": {},
   "outputs": [],
   "source": [
    "proposed_params = {\n",
    "    'reg_alpha': [0.0001, 0.001, 0.01, 0, 1, 10, 100, 1000],\n",
    "    'reg_lambda': [0.0001, 0.001, 0.01, 0, 1, 10, 100, 1000]\n",
    "}"
   ]
  },
  {
   "cell_type": "code",
   "execution_count": 106,
   "id": "9f25555e",
   "metadata": {},
   "outputs": [],
   "source": [
    "#grid_search = GridSearchCV(estimator = xgb_model, param_grid = proposed_params, cv = 10, n_jobs = -1, verbose = 2)\n",
    "#grid_search.fit(dane_train_x, dane_train_y)"
   ]
  },
  {
   "cell_type": "code",
   "execution_count": 107,
   "id": "793f17a4",
   "metadata": {},
   "outputs": [],
   "source": [
    "#best_parameters = grid_search.best_params_\n",
    "#print('Najlepsze wartosci hiperparamentrow dla xgboost: ', best_parameters)"
   ]
  },
  {
   "cell_type": "markdown",
   "id": "f91faa3e",
   "metadata": {},
   "source": [
    "### Budowa modelu"
   ]
  },
  {
   "cell_type": "code",
   "execution_count": 108,
   "id": "36181b14",
   "metadata": {},
   "outputs": [],
   "source": [
    "xgb_model_best = xgb.XGBClassifier(objective = \"binary:logistic\", random_state = 42, reg_alpha = 0.0001, reg_lambda = 0.001)"
   ]
  },
  {
   "cell_type": "code",
   "execution_count": 109,
   "id": "e8abd72a",
   "metadata": {},
   "outputs": [
    {
     "data": {
      "text/html": [
       "<style>#sk-container-id-5 {color: black;}#sk-container-id-5 pre{padding: 0;}#sk-container-id-5 div.sk-toggleable {background-color: white;}#sk-container-id-5 label.sk-toggleable__label {cursor: pointer;display: block;width: 100%;margin-bottom: 0;padding: 0.3em;box-sizing: border-box;text-align: center;}#sk-container-id-5 label.sk-toggleable__label-arrow:before {content: \"▸\";float: left;margin-right: 0.25em;color: #696969;}#sk-container-id-5 label.sk-toggleable__label-arrow:hover:before {color: black;}#sk-container-id-5 div.sk-estimator:hover label.sk-toggleable__label-arrow:before {color: black;}#sk-container-id-5 div.sk-toggleable__content {max-height: 0;max-width: 0;overflow: hidden;text-align: left;background-color: #f0f8ff;}#sk-container-id-5 div.sk-toggleable__content pre {margin: 0.2em;color: black;border-radius: 0.25em;background-color: #f0f8ff;}#sk-container-id-5 input.sk-toggleable__control:checked~div.sk-toggleable__content {max-height: 200px;max-width: 100%;overflow: auto;}#sk-container-id-5 input.sk-toggleable__control:checked~label.sk-toggleable__label-arrow:before {content: \"▾\";}#sk-container-id-5 div.sk-estimator input.sk-toggleable__control:checked~label.sk-toggleable__label {background-color: #d4ebff;}#sk-container-id-5 div.sk-label input.sk-toggleable__control:checked~label.sk-toggleable__label {background-color: #d4ebff;}#sk-container-id-5 input.sk-hidden--visually {border: 0;clip: rect(1px 1px 1px 1px);clip: rect(1px, 1px, 1px, 1px);height: 1px;margin: -1px;overflow: hidden;padding: 0;position: absolute;width: 1px;}#sk-container-id-5 div.sk-estimator {font-family: monospace;background-color: #f0f8ff;border: 1px dotted black;border-radius: 0.25em;box-sizing: border-box;margin-bottom: 0.5em;}#sk-container-id-5 div.sk-estimator:hover {background-color: #d4ebff;}#sk-container-id-5 div.sk-parallel-item::after {content: \"\";width: 100%;border-bottom: 1px solid gray;flex-grow: 1;}#sk-container-id-5 div.sk-label:hover label.sk-toggleable__label {background-color: #d4ebff;}#sk-container-id-5 div.sk-serial::before {content: \"\";position: absolute;border-left: 1px solid gray;box-sizing: border-box;top: 0;bottom: 0;left: 50%;z-index: 0;}#sk-container-id-5 div.sk-serial {display: flex;flex-direction: column;align-items: center;background-color: white;padding-right: 0.2em;padding-left: 0.2em;position: relative;}#sk-container-id-5 div.sk-item {position: relative;z-index: 1;}#sk-container-id-5 div.sk-parallel {display: flex;align-items: stretch;justify-content: center;background-color: white;position: relative;}#sk-container-id-5 div.sk-item::before, #sk-container-id-5 div.sk-parallel-item::before {content: \"\";position: absolute;border-left: 1px solid gray;box-sizing: border-box;top: 0;bottom: 0;left: 50%;z-index: -1;}#sk-container-id-5 div.sk-parallel-item {display: flex;flex-direction: column;z-index: 1;position: relative;background-color: white;}#sk-container-id-5 div.sk-parallel-item:first-child::after {align-self: flex-end;width: 50%;}#sk-container-id-5 div.sk-parallel-item:last-child::after {align-self: flex-start;width: 50%;}#sk-container-id-5 div.sk-parallel-item:only-child::after {width: 0;}#sk-container-id-5 div.sk-dashed-wrapped {border: 1px dashed gray;margin: 0 0.4em 0.5em 0.4em;box-sizing: border-box;padding-bottom: 0.4em;background-color: white;}#sk-container-id-5 div.sk-label label {font-family: monospace;font-weight: bold;display: inline-block;line-height: 1.2em;}#sk-container-id-5 div.sk-label-container {text-align: center;}#sk-container-id-5 div.sk-container {/* jupyter's `normalize.less` sets `[hidden] { display: none; }` but bootstrap.min.css set `[hidden] { display: none !important; }` so we also need the `!important` here to be able to override the default hidden behavior on the sphinx rendered scikit-learn.org. See: https://github.com/scikit-learn/scikit-learn/issues/21755 */display: inline-block !important;position: relative;}#sk-container-id-5 div.sk-text-repr-fallback {display: none;}</style><div id=\"sk-container-id-5\" class=\"sk-top-container\"><div class=\"sk-text-repr-fallback\"><pre>XGBClassifier(base_score=None, booster=None, callbacks=None,\n",
       "              colsample_bylevel=None, colsample_bynode=None,\n",
       "              colsample_bytree=None, device=None, early_stopping_rounds=None,\n",
       "              enable_categorical=False, eval_metric=None, feature_types=None,\n",
       "              gamma=None, grow_policy=None, importance_type=None,\n",
       "              interaction_constraints=None, learning_rate=None, max_bin=None,\n",
       "              max_cat_threshold=None, max_cat_to_onehot=None,\n",
       "              max_delta_step=None, max_depth=None, max_leaves=None,\n",
       "              min_child_weight=None, missing=nan, monotone_constraints=None,\n",
       "              multi_strategy=None, n_estimators=None, n_jobs=None,\n",
       "              num_parallel_tree=None, random_state=42, ...)</pre><b>In a Jupyter environment, please rerun this cell to show the HTML representation or trust the notebook. <br />On GitHub, the HTML representation is unable to render, please try loading this page with nbviewer.org.</b></div><div class=\"sk-container\" hidden><div class=\"sk-item\"><div class=\"sk-estimator sk-toggleable\"><input class=\"sk-toggleable__control sk-hidden--visually\" id=\"sk-estimator-id-5\" type=\"checkbox\" checked><label for=\"sk-estimator-id-5\" class=\"sk-toggleable__label sk-toggleable__label-arrow\">XGBClassifier</label><div class=\"sk-toggleable__content\"><pre>XGBClassifier(base_score=None, booster=None, callbacks=None,\n",
       "              colsample_bylevel=None, colsample_bynode=None,\n",
       "              colsample_bytree=None, device=None, early_stopping_rounds=None,\n",
       "              enable_categorical=False, eval_metric=None, feature_types=None,\n",
       "              gamma=None, grow_policy=None, importance_type=None,\n",
       "              interaction_constraints=None, learning_rate=None, max_bin=None,\n",
       "              max_cat_threshold=None, max_cat_to_onehot=None,\n",
       "              max_delta_step=None, max_depth=None, max_leaves=None,\n",
       "              min_child_weight=None, missing=nan, monotone_constraints=None,\n",
       "              multi_strategy=None, n_estimators=None, n_jobs=None,\n",
       "              num_parallel_tree=None, random_state=42, ...)</pre></div></div></div></div></div>"
      ],
      "text/plain": [
       "XGBClassifier(base_score=None, booster=None, callbacks=None,\n",
       "              colsample_bylevel=None, colsample_bynode=None,\n",
       "              colsample_bytree=None, device=None, early_stopping_rounds=None,\n",
       "              enable_categorical=False, eval_metric=None, feature_types=None,\n",
       "              gamma=None, grow_policy=None, importance_type=None,\n",
       "              interaction_constraints=None, learning_rate=None, max_bin=None,\n",
       "              max_cat_threshold=None, max_cat_to_onehot=None,\n",
       "              max_delta_step=None, max_depth=None, max_leaves=None,\n",
       "              min_child_weight=None, missing=nan, monotone_constraints=None,\n",
       "              multi_strategy=None, n_estimators=None, n_jobs=None,\n",
       "              num_parallel_tree=None, random_state=42, ...)"
      ]
     },
     "execution_count": 109,
     "metadata": {},
     "output_type": "execute_result"
    }
   ],
   "source": [
    "xgb_model_best.fit(dane_train_x, dane_train_y)"
   ]
  },
  {
   "cell_type": "code",
   "execution_count": 110,
   "id": "aa9a9611",
   "metadata": {},
   "outputs": [
    {
     "name": "stdout",
     "output_type": "stream",
     "text": [
      "Dokładność klasyfikacji na danych uczących:  0.7537\n"
     ]
    }
   ],
   "source": [
    "y_predykcja_train_xgb = xgb_model_best.predict(dane_train_x)\n",
    "\n",
    "dokladnosc_train_xgb = accuracy_score(dane_train_y, y_predykcja_train_xgb)\n",
    "print(\"Dokładność klasyfikacji na danych uczących: \", round(dokladnosc_train_xgb,4))"
   ]
  },
  {
   "cell_type": "code",
   "execution_count": 111,
   "id": "925b4a96",
   "metadata": {},
   "outputs": [],
   "source": [
    "y_predykcja_test_xgb_best = xgb_model_best.predict(dane_test_x)"
   ]
  },
  {
   "cell_type": "code",
   "execution_count": 112,
   "id": "d6d23941",
   "metadata": {},
   "outputs": [
    {
     "name": "stdout",
     "output_type": "stream",
     "text": [
      "Dokładność klasyfikacji na danych testowych:  75.07\n"
     ]
    }
   ],
   "source": [
    "dokladnosc_xgb_best = accuracy_score(dane_test_y, y_predykcja_test_xgb_best)\n",
    "print(\"Dokładność klasyfikacji na danych testowych: \", round(dokladnosc_xgb_best*100.0,2))"
   ]
  },
  {
   "cell_type": "markdown",
   "id": "e937a37a",
   "metadata": {},
   "source": [
    "#### Walidacja krzyżowa"
   ]
  },
  {
   "cell_type": "code",
   "execution_count": 113,
   "id": "46133507",
   "metadata": {
    "scrolled": true
   },
   "outputs": [
    {
     "name": "stdout",
     "output_type": "stream",
     "text": [
      "Dokładność predykcji:  [0.75429643 0.75791667 0.7475     0.7503125  0.7428125  0.75197917\n",
      " 0.74989583 0.74177083 0.75125    0.74052083 0.75208333 0.7521875\n",
      " 0.75125    0.750625   0.75114583]\n",
      "Średnia dokładność: 0.7497\n"
     ]
    }
   ],
   "source": [
    "scores_xgb = cross_val_score(xgb_model_best, dane_train_x, dane_train_y, cv=15)\n",
    "\n",
    "print(\"Dokładność predykcji: \", scores_xgb)\n",
    "print(\"Średnia dokładność:\", round(scores_xgb.mean(),4))"
   ]
  },
  {
   "cell_type": "markdown",
   "id": "fbc96d9f",
   "metadata": {},
   "source": [
    "#### Macierz pomyłek"
   ]
  },
  {
   "cell_type": "code",
   "execution_count": 114,
   "id": "e5b2a320",
   "metadata": {},
   "outputs": [
    {
     "name": "stdout",
     "output_type": "stream",
     "text": [
      "Macierz pomyłek:\n",
      "[[22222  8605]\n",
      " [ 6780 24108]]\n"
     ]
    }
   ],
   "source": [
    "macierz_pomylek_xgb = confusion_matrix(dane_test_y, y_predykcja_test_xgb_best)\n",
    "\n",
    "print(\"Macierz pomyłek:\")\n",
    "print(macierz_pomylek_xgb)"
   ]
  },
  {
   "cell_type": "code",
   "execution_count": 115,
   "id": "82785578",
   "metadata": {},
   "outputs": [
    {
     "data": {
      "image/png": "[encoded data removed]",
      "text/plain": [
       "<Figure size 576x432 with 2 Axes>"
      ]
     },
     "metadata": {
      "needs_background": "light"
     },
     "output_type": "display_data"
    }
   ],
   "source": [
    "labels = ['0', '1']  \n",
    "\n",
    "\n",
    "plt.figure(figsize=(8, 6))\n",
    "sns.heatmap(macierz_pomylek_xgb, annot=True, fmt=\"d\", cmap=\"Greys\", xticklabels=labels, yticklabels=labels)\n",
    "plt.xlabel('Wartości przewidywane')\n",
    "plt.ylabel('Wartości rzeczywiste')\n",
    "plt.title('Macierz pomyłek')\n",
    "plt.savefig('macierz_pomylek_xgboost.png', dpi=300, bbox_inches='tight')\n",
    "plt.show()"
   ]
  },
  {
   "cell_type": "markdown",
   "id": "b0cfd17a",
   "metadata": {},
   "source": [
    "#### Miary jakości klasyfikatora"
   ]
  },
  {
   "cell_type": "code",
   "execution_count": 116,
   "id": "612532b3",
   "metadata": {},
   "outputs": [
    {
     "name": "stdout",
     "output_type": "stream",
     "text": [
      "Czułość: 0.7805\n",
      "Specyficzność: 0.7209\n",
      "Precyzja: 0.737\n",
      "F1-score: 0.7581\n"
     ]
    }
   ],
   "source": [
    "TN = macierz_pomylek_xgb[0, 0]\n",
    "FP = macierz_pomylek_xgb[0, 1]\n",
    "FN = macierz_pomylek_xgb[1, 0]\n",
    "TP = macierz_pomylek_xgb[1, 1]\n",
    "\n",
    "czulosc = TP / (TP + FN)\n",
    "specyficznosc = TN / (TN + FP)\n",
    "precyzja = TP / (TP + FP)\n",
    "statystyka_f1 = 2 * (precyzja * czulosc) / (precyzja + czulosc)\n",
    "\n",
    "print(\"Czułość:\", round(czulosc,4))\n",
    "print(\"Specyficzność:\", round(specyficznosc,4))\n",
    "print(\"Precyzja:\", round(precyzja,4))\n",
    "print(\"F1-score:\", round(statystyka_f1, 4))"
   ]
  },
  {
   "cell_type": "markdown",
   "id": "e2acef3d",
   "metadata": {},
   "source": [
    "#### Krzywa ROC"
   ]
  },
  {
   "cell_type": "code",
   "execution_count": 117,
   "id": "634bd173",
   "metadata": {},
   "outputs": [],
   "source": [
    "y_pred_prob_xgb = xgb_model_best.predict_proba(dane_test_x)[:,1]\n",
    "\n",
    "fpr, tpr, prog_odciecia = roc_curve(dane_test_y, y_pred_prob_xgb)"
   ]
  },
  {
   "cell_type": "code",
   "execution_count": 118,
   "id": "abb2d296",
   "metadata": {},
   "outputs": [
    {
     "data": {
      "image/png": "[encoded data removed]",
      "text/plain": [
       "<Figure size 432x288 with 1 Axes>"
      ]
     },
     "metadata": {
      "needs_background": "light"
     },
     "output_type": "display_data"
    }
   ],
   "source": [
    "plt.plot(fpr, tpr, label = \"Krzywa ROC\", color = \"black\")\n",
    "plt.plot([0,1], [0,1], linestyle = \"--\", label = \"Klasyfikator losowy\", color = \"orange\")\n",
    "plt.xlabel(\"1-Specyficzność\")\n",
    "plt.ylabel(\"Czułość\")\n",
    "plt.legend()\n",
    "plt.savefig('roc_xgboost.png', dpi=300, bbox_inches='tight')\n",
    "plt.show()"
   ]
  },
  {
   "cell_type": "code",
   "execution_count": 119,
   "id": "2eb4d673",
   "metadata": {},
   "outputs": [
    {
     "name": "stdout",
     "output_type": "stream",
     "text": [
      "Pole pod krzywą ROC wynosi:  0.8201\n"
     ]
    }
   ],
   "source": [
    "auc_xgb = roc_auc_score(dane_test_y, y_pred_prob_xgb)\n",
    "\n",
    "print(\"Pole pod krzywą ROC wynosi: \", round(auc_xgb, 4))"
   ]
  },
  {
   "cell_type": "markdown",
   "id": "6d47684b",
   "metadata": {},
   "source": [
    "#### Istotność cech"
   ]
  },
  {
   "cell_type": "code",
   "execution_count": 120,
   "id": "c44dd0e3",
   "metadata": {},
   "outputs": [
    {
     "name": "stdout",
     "output_type": "stream",
     "text": [
      "                                    Cecha  Ważność\n",
      "12                   attack_Assassination   0.2578\n",
      "0                                extended   0.1775\n",
      "19                         targtype_Other   0.1620\n",
      "13               attack_Bombing/Explosion   0.0970\n",
      "10                  region_Western Europe   0.0640\n",
      "16               attack_Other attack type   0.0351\n",
      "14  attack_Facility/Infrastructure Attack   0.0226\n",
      "7                       region_South Asia   0.0193\n",
      "4       region_Middle East & North Africa   0.0188\n",
      "5                     region_Other region   0.0182\n",
      "9               region_Sub-Saharan Africa   0.0176\n",
      "2                              group_name   0.0141\n",
      "21   targtype_Private Citizens & Property   0.0122\n",
      "6                    region_South America   0.0111\n",
      "8                   region_Southeast Asia   0.0109\n",
      "3                   region_Eastern Europe   0.0102\n",
      "1                                multiple   0.0098\n",
      "11                   attack_Armed Assault   0.0096\n",
      "15     attack_Hostage Taking (Kidnapping)   0.0093\n",
      "17                   targtype_Authorities   0.0089\n",
      "18                      targtype_Business   0.0070\n",
      "20             targtype_Police & Military   0.0070\n"
     ]
    }
   ],
   "source": [
    "waznosc_xgb = xgb_model_best.feature_importances_\n",
    "cechy_xgb = dane_train_x.columns\n",
    "\n",
    "\n",
    "waznosc_df_xgb = pd.DataFrame({'Cecha': cechy_xgb, 'Ważność': waznosc_xgb})\n",
    "waznosc_df_xgb = waznosc_df_xgb.sort_values(by='Ważność', ascending=False)\n",
    "waznosc_df_xgb['Ważność'] = round(waznosc_df_xgb['Ważność'], 4)\n",
    "\n",
    "print(waznosc_df_xgb)"
   ]
  },
  {
   "cell_type": "code",
   "execution_count": 121,
   "id": "47d9e7ff",
   "metadata": {},
   "outputs": [
    {
     "data": {
      "image/png": "[encoded data removed]",
      "text/plain": [
       "<Figure size 720x432 with 1 Axes>"
      ]
     },
     "metadata": {
      "needs_background": "light"
     },
     "output_type": "display_data"
    }
   ],
   "source": [
    "plt.figure(figsize=(10, 6))\n",
    "plt.bar(waznosc_df_xgb['Cecha'], waznosc_df_xgb['Ważność'], color='dimgray')\n",
    "\n",
    "\n",
    "plt.title('Ważność cech w xgboost')\n",
    "plt.xlabel('Cecha')\n",
    "plt.ylabel('Ważność')\n",
    "plt.xticks(rotation=90)\n",
    "plt.tight_layout()\n",
    "plt.savefig('waznosc_xgb.png', dpi=300, bbox_inches='tight')\n",
    "plt.show()"
   ]
  }
 ],
 "metadata": {
  "kernelspec": {
   "display_name": "Python 3 (ipykernel)",
   "language": "python",
   "name": "python3"
  },
  "language_info": {
   "codemirror_mode": {
    "name": "ipython",
    "version": 3
   },
   "file_extension": ".py",
   "mimetype": "text/x-python",
   "name": "python",
   "nbconvert_exporter": "python",
   "pygments_lexer": "ipython3",
   "version": "3.9.7"
  }
 },
 "nbformat": 4,
 "nbformat_minor": 5
}
